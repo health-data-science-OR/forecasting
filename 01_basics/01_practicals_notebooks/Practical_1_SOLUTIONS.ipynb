{
 "cells": [
  {
   "cell_type": "markdown",
   "metadata": {},
   "source": [
    "# Computer Lab 1: Naive Models\n",
    "\n",
    "In any forecasting study the first thing you need to do is create a naive benchmark.  We can use naive benchmarks as simple methods for producing forecasting or as a way to check that the more complicated models we will use later the course are worth the effort to use/maintain.\n",
    "\n",
    "**In this practical will apply our knowledge in**\n",
    "\n",
    "* Creating baseline naive forecasts\n",
    "* Performing a train-test split\n",
    "* Using forecast error metrics MAE and MAPE to select the best method \n",
    "* Producing prediction intervals for naive methods\n",
    "\n",
    "---\n",
    "**Before attempting the exercises, it is recommended that you watch the following code along tutorials that describes how to use python for basic forecasting**.\n",
    "\n",
    "* **Reading time series data into pandas**:\n",
    "    * Code along video (5 mins): https://bit.ly/pandas_ts\n",
    "    * [Code along notebook](https://colab.research.google.com/github/health-data-science-OR/forecasting/blob/master/01_basics/01_code_along_notebooks/pandas_time_series.ipynb)\n",
    "    \n",
    "* **Benchmark models**:\n",
    "    * Code along video (15 mins): https://bit.ly/benchmark_code_along\n",
    "    * [Code along notebook](https://colab.research.google.com/github/health-data-science-OR/forecasting/blob/master/01_basics/01_code_along_notebooks/ca_benchmark_forecasts.ipynb)\n",
    "    \n",
    "---"
   ]
  },
  {
   "cell_type": "markdown",
   "metadata": {},
   "source": [
    "# Standard Imports"
   ]
  },
  {
   "cell_type": "code",
   "execution_count": null,
   "metadata": {},
   "outputs": [],
   "source": [
    "import pandas as pd\n",
    "import numpy as np\n",
    "import matplotlib.pyplot as plt\n",
    "import sys"
   ]
  },
  {
   "cell_type": "markdown",
   "metadata": {},
   "source": [
    "# Install forecast-tools"
   ]
  },
  {
   "cell_type": "code",
   "execution_count": null,
   "metadata": {},
   "outputs": [],
   "source": [
    "# if running in Google Colab install forecast-tools\n",
    "if 'google.colab' in sys.modules:\n",
    "    !pip install forecast-tools"
   ]
  },
  {
   "cell_type": "markdown",
   "metadata": {},
   "source": [
    "# forecast-tools imports"
   ]
  },
  {
   "cell_type": "code",
   "execution_count": null,
   "metadata": {},
   "outputs": [],
   "source": [
    "#baseline forecast methods\n",
    "from forecast_tools.baseline import (Naive1, \n",
    "                                     SNaive,\n",
    "                                     Drift,\n",
    "                                     Average,\n",
    "                                     baseline_estimators)\n",
    "\n",
    "from forecast_tools.metrics import (mean_absolute_percentage_error,\n",
    "                                    mean_absolute_error)"
   ]
  },
  {
   "cell_type": "markdown",
   "metadata": {},
   "source": [
    "# Helper functions"
   ]
  },
  {
   "cell_type": "code",
   "execution_count": null,
   "metadata": {},
   "outputs": [],
   "source": [
    "def preds_as_series(data, preds):\n",
    "    '''\n",
    "    Helper function for plotting predictions.\n",
    "    Converts a numpy array of predictions to a \n",
    "    pandas.DataFrame with datetimeindex\n",
    "    \n",
    "    Parameters\n",
    "    -----\n",
    "    data - arraylike - the training data\n",
    "    preds - numpy.array, vector of predictions \n",
    "    \n",
    "    Returns:\n",
    "    -------\n",
    "    pandas.DataFrame\n",
    "    '''\n",
    "    start = pd.date_range(start=data.index.max(), periods=2, \n",
    "                          freq=data.index.freq).max()\n",
    "    idx = pd.date_range(start=start, periods=len(preds), freq=data.index.freq)\n",
    "    return pd.DataFrame(preds, index=idx)"
   ]
  },
  {
   "cell_type": "markdown",
   "metadata": {},
   "source": [
    "## Exercise 1: Using Naive1 to forecast monthly outpatient appointments."
   ]
  },
  {
   "cell_type": "markdown",
   "metadata": {},
   "source": [
    "**Step 1: Import monthly outpatient appointments time series**  \n",
    "\n",
    "This can be found in **\"data/out_appoints_mth.csv\"**\n",
    "or 'https://raw.githubusercontent.com/health-data-science-OR/hpdm097-datasets/master/out_appoints_mth.csv'\n",
    "\n",
    "* Hint: this is monthly data.  You can use the monthly Start ('MS') frequency"
   ]
  },
  {
   "cell_type": "code",
   "execution_count": null,
   "metadata": {},
   "outputs": [],
   "source": [
    "# your code here ...\n",
    "url = 'https://raw.githubusercontent.com/health-data-science-OR/' \\\n",
    "        + 'hpdm097-datasets/master/out_appoints_mth.csv'"
   ]
  },
  {
   "cell_type": "code",
   "execution_count": null,
   "metadata": {},
   "outputs": [],
   "source": [
    "appoints = pd.read_csv(url, index_col='date', parse_dates=True, dayfirst=True)\n",
    "appoints.index.freq = 'MS'"
   ]
  },
  {
   "cell_type": "code",
   "execution_count": null,
   "metadata": {},
   "outputs": [],
   "source": [
    "appoints.info()"
   ]
  },
  {
   "cell_type": "markdown",
   "metadata": {},
   "source": [
    "**Step 2 Plot the data**"
   ]
  },
  {
   "cell_type": "code",
   "execution_count": null,
   "metadata": {},
   "outputs": [],
   "source": [
    "# your code here ..."
   ]
  },
  {
   "cell_type": "code",
   "execution_count": null,
   "metadata": {},
   "outputs": [],
   "source": [
    "appoints.plot(figsize=(12,4))"
   ]
  },
  {
   "cell_type": "markdown",
   "metadata": {},
   "source": [
    "**Step 3: Create and fit Naive1 forecast model**\n",
    "\n",
    "* Hint: you want to fit `appoints['out_apts']`"
   ]
  },
  {
   "cell_type": "code",
   "execution_count": null,
   "metadata": {},
   "outputs": [],
   "source": [
    "# your code here ..."
   ]
  },
  {
   "cell_type": "code",
   "execution_count": null,
   "metadata": {},
   "outputs": [],
   "source": [
    "nf1 = Naive1()\n",
    "nf1.fit(appoints['out_apts'])"
   ]
  },
  {
   "cell_type": "markdown",
   "metadata": {},
   "source": [
    "**Step 4: Plot the Naive1 fitted values**\n",
    "\n",
    "All the baseline models have fitted values.  These are the in-sample prediction i.e. the predictions of the training data.\n",
    "\n",
    "Once you have created and fitted a Naive1 model you can access the fitted values using the `.fittedvalues` property.  This returns a `DataFrame`.\n",
    "\n",
    "Plot the fitted values against the observed data."
   ]
  },
  {
   "cell_type": "code",
   "execution_count": null,
   "metadata": {},
   "outputs": [],
   "source": [
    "# your code here ..."
   ]
  },
  {
   "cell_type": "code",
   "execution_count": null,
   "metadata": {},
   "outputs": [],
   "source": [
    "ax = appoints.plot(figsize=(12,4))\n",
    "nf1.fittedvalues.plot(ax=ax, color='green', linestyle='--')"
   ]
  },
  {
   "cell_type": "markdown",
   "metadata": {},
   "source": [
    "**Step 5: Forecast the next 6 months**\n",
    "\n",
    "After you have created a forecast plot the predictions.  \n",
    "\n",
    "* Hint: use the `pred_as_series()` method to plot the predictions.  See the lecture notes for exampes of how to use it."
   ]
  },
  {
   "cell_type": "code",
   "execution_count": null,
   "metadata": {},
   "outputs": [],
   "source": [
    "# your code here ..."
   ]
  },
  {
   "cell_type": "code",
   "execution_count": null,
   "metadata": {},
   "outputs": [],
   "source": [
    "preds = nf1.predict(horizon=6)"
   ]
  },
  {
   "cell_type": "code",
   "execution_count": null,
   "metadata": {},
   "outputs": [],
   "source": [
    "preds = preds_as_series(appoints, preds)"
   ]
  },
  {
   "cell_type": "code",
   "execution_count": null,
   "metadata": {},
   "outputs": [],
   "source": [
    "ax = appoints.plot(figsize=(12,4), marker='o')\n",
    "preds.plot(ax=ax, marker='o')\n",
    "ax.legend(['training', 'forecast'])"
   ]
  },
  {
   "cell_type": "markdown",
   "metadata": {},
   "source": [
    "## Exercise 2. Choose the best baseline forecast method for ED reattendances"
   ]
  },
  {
   "cell_type": "markdown",
   "metadata": {},
   "source": [
    "**Step 1: Import emergency department reattendance data.**  \n",
    "\n",
    "This is a time series from a hospital that measures the number of patients per month that have reattended an ED within 7 days of a previous attendance.\n",
    "\n",
    "This can be found in **\"ed_reattend.csv\"**:  \n",
    "'https://raw.githubusercontent.com/health-data-science-OR/hpdm097-datasets/master/ed_reattend.csv'\n",
    "\n",
    "* Hint 1: The format of the 'date' column is in UK standard dd/mm/yyyy.  You will need to set the `dayfirst=True` of `pd.read_csv()` to make sure pandas interprets the dates correctly.\n",
    "\n",
    "* Hint 2: The data is monthly and the dates are all the first day of the month.  This is called monthly start and its shorthand is 'MS'"
   ]
  },
  {
   "cell_type": "code",
   "execution_count": null,
   "metadata": {},
   "outputs": [],
   "source": [
    "# your code here ...\n",
    "url = 'https://raw.githubusercontent.com/health-data-science-OR/' \\\n",
    "       + 'hpdm097-datasets/master/ed_reattend.csv'"
   ]
  },
  {
   "cell_type": "code",
   "execution_count": null,
   "metadata": {},
   "outputs": [],
   "source": [
    "reattends = pd.read_csv(url, index_col='date',  parse_dates=True, dayfirst=True)\n",
    "reattends.index.freq = 'MS'"
   ]
  },
  {
   "cell_type": "markdown",
   "metadata": {},
   "source": [
    "**Step 2: Perform a calender adjustment**"
   ]
  },
  {
   "cell_type": "code",
   "execution_count": null,
   "metadata": {},
   "outputs": [],
   "source": [
    "#your code here ..."
   ]
  },
  {
   "cell_type": "code",
   "execution_count": null,
   "metadata": {},
   "outputs": [],
   "source": [
    "reattend_rate = reattends['reattends'] / reattends.index.days_in_month"
   ]
  },
  {
   "cell_type": "markdown",
   "metadata": {},
   "source": [
    "**Step 3: Perform a train-test split**\n",
    "\n",
    "Create a train test split where you holdback the final 6 months of the data.\n",
    "\n",
    "Remember to work with the calender adjusted data.\n",
    "\n",
    "* Hint: The test set is the last 6 rows in your pandas DataFrame"
   ]
  },
  {
   "cell_type": "code",
   "execution_count": null,
   "metadata": {},
   "outputs": [],
   "source": [
    "#your code here ..."
   ]
  },
  {
   "cell_type": "code",
   "execution_count": null,
   "metadata": {},
   "outputs": [],
   "source": [
    "#train test split\n",
    "train = reattend_rate.iloc[:-6]\n",
    "test = reattend_rate.iloc[-6:]"
   ]
  },
  {
   "cell_type": "code",
   "execution_count": null,
   "metadata": {},
   "outputs": [],
   "source": [
    "train.shape"
   ]
  },
  {
   "cell_type": "code",
   "execution_count": null,
   "metadata": {},
   "outputs": [],
   "source": [
    "test.shape"
   ]
  },
  {
   "cell_type": "markdown",
   "metadata": {},
   "source": [
    "**Step 4: Plot the TRAINING data**\n",
    "\n",
    "Remember don't look at the test data just yet.  You don't want to bias your model selection process."
   ]
  },
  {
   "cell_type": "code",
   "execution_count": null,
   "metadata": {},
   "outputs": [],
   "source": [
    "# your code here ..."
   ]
  },
  {
   "cell_type": "code",
   "execution_count": null,
   "metadata": {},
   "outputs": [],
   "source": [
    "ax = train.plot(figsize=(12,4), color='red', marker='o', legend=False)\n",
    "ax.set_ylabel('mean reattends within 7 days')"
   ]
  },
  {
   "cell_type": "markdown",
   "metadata": {},
   "source": [
    "**Step 5: Create and fit Naive1, and SNaive baseline models**\n",
    "\n",
    "* Hint: Fit the TRAINING data."
   ]
  },
  {
   "cell_type": "code",
   "execution_count": null,
   "metadata": {},
   "outputs": [],
   "source": [
    "# your code here ..."
   ]
  },
  {
   "cell_type": "code",
   "execution_count": null,
   "metadata": {},
   "outputs": [],
   "source": [
    "model_1 = Naive1()\n",
    "model_2 = SNaive(12)"
   ]
  },
  {
   "cell_type": "code",
   "execution_count": null,
   "metadata": {},
   "outputs": [],
   "source": [
    "model_1.fit(train)\n",
    "model_2.fit(train)"
   ]
  },
  {
   "cell_type": "markdown",
   "metadata": {},
   "source": [
    "**Step 6: Use each model to predict 6 months ahead**\n",
    "\n",
    "* Hint.  You need to store the prediction results so that later on you can calculate the forecast error."
   ]
  },
  {
   "cell_type": "code",
   "execution_count": null,
   "metadata": {},
   "outputs": [],
   "source": [
    "# your code here ..."
   ]
  },
  {
   "cell_type": "code",
   "execution_count": null,
   "metadata": {},
   "outputs": [],
   "source": [
    "preds_1 = model_1.predict(horizon=6)\n",
    "preds_2 = model_2.predict(horizon=6)"
   ]
  },
  {
   "cell_type": "markdown",
   "metadata": {},
   "source": [
    "**Step 7: Calculate the mean absolute error of each forecast method**\n",
    "    \n",
    "Based on the results which method would you choose?"
   ]
  },
  {
   "cell_type": "code",
   "execution_count": null,
   "metadata": {},
   "outputs": [],
   "source": [
    "# your code here ..."
   ]
  },
  {
   "cell_type": "code",
   "execution_count": null,
   "metadata": {},
   "outputs": [],
   "source": [
    "mae_1 = mean_absolute_error(y_true=test, y_pred=preds_1)\n",
    "mae_2 = mean_absolute_error(y_true=test, y_pred=preds_2)\n",
    "\n",
    "print(mae_1)\n",
    "print(mae_2)"
   ]
  },
  {
   "cell_type": "markdown",
   "metadata": {},
   "source": [
    "**Step 8: Produce 80 and 95% prediction intervals for your chosen method.**"
   ]
  },
  {
   "cell_type": "code",
   "execution_count": null,
   "metadata": {},
   "outputs": [],
   "source": [
    "#your code here ..."
   ]
  },
  {
   "cell_type": "code",
   "execution_count": null,
   "metadata": {},
   "outputs": [],
   "source": [
    "y_preds, y_intervals = model_1.predict(horizon=6, return_predict_int=True, \n",
    "                                       alpha=[0.2, 0.05])\n",
    "\n",
    "#80%\n",
    "y_intervals[0]"
   ]
  },
  {
   "cell_type": "code",
   "execution_count": null,
   "metadata": {},
   "outputs": [],
   "source": [
    "#95%\n",
    "y_intervals[1]"
   ]
  },
  {
   "cell_type": "markdown",
   "metadata": {},
   "source": [
    "# End"
   ]
  }
 ],
 "metadata": {
  "kernelspec": {
   "display_name": "Python 3 (ipykernel)",
   "language": "python",
   "name": "python3"
  },
  "language_info": {
   "codemirror_mode": {
    "name": "ipython",
    "version": 3
   },
   "file_extension": ".py",
   "mimetype": "text/x-python",
   "name": "python",
   "nbconvert_exporter": "python",
   "pygments_lexer": "ipython3",
   "version": "3.8.8"
  }
 },
 "nbformat": 4,
 "nbformat_minor": 4
}
