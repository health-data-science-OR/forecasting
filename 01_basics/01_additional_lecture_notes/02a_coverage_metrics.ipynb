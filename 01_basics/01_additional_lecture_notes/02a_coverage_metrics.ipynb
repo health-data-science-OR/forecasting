{
 "cells": [
  {
   "cell_type": "markdown",
   "metadata": {},
   "source": [
    "# Evaluating a prediction interval\n",
    "\n",
    "In practice, producing a prediction interval that offers the correct level of coverage is tricky. If the model is a poor fit then it will produce PIs that are too wide. While more complex methods tend to be overconfident and produce intervals that are too narrow."
   ]
  },
  {
   "cell_type": "markdown",
   "metadata": {},
   "source": [
    "## Imports"
   ]
  },
  {
   "cell_type": "code",
   "execution_count": 1,
   "metadata": {},
   "outputs": [],
   "source": [
    "import pandas as pd\n",
    "import numpy as np\n",
    "\n",
    "from forecast_tools.baseline import SNaive, Naive1\n",
    "from forecast_tools.metrics import (winkler_score, \n",
    "                                    absolute_coverage_difference,\n",
    "                                    coverage)\n",
    "from forecast_tools.datasets import load_emergency_dept\n",
    "\n",
    "import warnings\n",
    "warnings.filterwarnings('ignore')"
   ]
  },
  {
   "cell_type": "markdown",
   "metadata": {},
   "source": [
    "## Empirical Coverage\n",
    "\n",
    "A simple way evaluate a prediction interval is to quantify its empirical coverage of a test set.\n",
    "\n",
    "The intervals in the example below have 83% coverage of the true values."
   ]
  },
  {
   "cell_type": "code",
   "execution_count": 2,
   "metadata": {},
   "outputs": [
    {
     "name": "stdout",
     "output_type": "stream",
     "text": [
      "0.83\n"
     ]
    }
   ],
   "source": [
    "intervals = np.array([[37520, 58225],\n",
    "                      [29059, 49764],\n",
    "                      [47325, 68030],\n",
    "                      [36432, 57137],\n",
    "                      [35865, 56570],\n",
    "                      [33419, 54124]])\n",
    "\n",
    "y_true = np.array([37463, 40828, 56148, 45342, 43741, 45907])\n",
    "mean_cov = coverage(y_true, intervals)\n",
    "print(round(mean_cov, 2))"
   ]
  },
  {
   "cell_type": "markdown",
   "metadata": {},
   "source": [
    "## Absolute Coverage Difference (ACD)\n",
    "\n",
    "You can enhance the basic coverage metric by considering a desired (or target) coverage that the method promised.  The absolute coverage difference is the absolute difference between average coverage and the target coverage level.\n",
    "\n",
    "For example if the average coverage is 83% and the target is a 95% coverage then the absolute coverage difference is\n",
    "\n",
    "$|0.83 - 0.95| = 0.12$"
   ]
  },
  {
   "cell_type": "code",
   "execution_count": 3,
   "metadata": {},
   "outputs": [
    {
     "name": "stdout",
     "output_type": "stream",
     "text": [
      "0.12\n"
     ]
    }
   ],
   "source": [
    "intervals = np.array([[37520, 58225],\n",
    "                      [29059, 49764],\n",
    "                      [47325, 68030],\n",
    "                      [36432, 57137],\n",
    "                      [35865, 56570],\n",
    "                      [33419, 54124]])\n",
    "\n",
    "y_true = np.array([37463, 40828, 56148, 45342, 43741, 45907])\n",
    "acd = absolute_coverage_difference(y_true, intervals, target=0.95)\n",
    "print(round(acd, 2))"
   ]
  },
  {
   "cell_type": "markdown",
   "metadata": {},
   "source": [
    "## Winkler score (also called interval score)\n",
    "\n",
    "An alternative way to assess prediction interval coverage for a specific time series is using the Winkler score. \n",
    "\n",
    "The winkler score is defined as\n",
    "\n",
    "$$W_{\\alpha,t} = \\begin{cases}\n",
    "  (u_{\\alpha,t} - \\ell_{\\alpha,t}) + \\frac{2}{\\alpha} (\\ell_{\\alpha,t} - y_t) & \\text{if } y_t < \\ell_{\\alpha,t} \\\\\n",
    "  (u_{\\alpha,t} - \\ell_{\\alpha,t})   & \\text{if }  \\ell_{\\alpha,t} \\le y_t \\le u_{\\alpha,t} \\\\\n",
    "  (u_{\\alpha,t} - \\ell_{\\alpha,t}) + \\frac{2}{\\alpha} (y_t - u_{\\alpha,t}) & \\text{if } y_t > u_{\\alpha,t}.\n",
    "  \\end{cases}$$\n",
    "  \n",
    "  \n",
    "Where \n",
    "\n",
    "* $u_{\\alpha, t}$ is the upper prediction interval value for $\\alpha$ and horizon $t$\n",
    "* $l_{\\alpha, t}$ is the lower prediction interval value for $\\alpha$ and horizon $t$\n",
    "* $y_t$ is the ground truth observation at horizon $t$\n",
    "\n",
    "**sources**\n",
    "\n",
    "* https://otexts.com/fpp3/distaccuracy.html\n",
    "* https://www.tandfonline.com/doi/abs/10.1198/016214506000001437\n",
    "* https://www.tandfonline.com/doi/pdf/10.1080/01621459.1972.10481224?needAccess=true\n",
    "\n",
    "### Interpretation\n",
    "\n",
    "* A Winkler score is the width of the interval plus a penality proportional to the deviation (above or below the interval) and 2/$\\alpha$\n",
    "* Smaller winkler scores are better!"
   ]
  },
  {
   "cell_type": "markdown",
   "metadata": {},
   "source": [
    "### Winkler score for an individual obs\n",
    "\n",
    "Assume our model has generated a prediction interval of [744.54, 773.22].  We know that the true observation lies outside of the lower interval 741.84.  The winkler score is therefore:"
   ]
  },
  {
   "cell_type": "code",
   "execution_count": 4,
   "metadata": {},
   "outputs": [
    {
     "name": "stdout",
     "output_type": "stream",
     "text": [
      "55.68\n"
     ]
    }
   ],
   "source": [
    "alpha = 0.2\n",
    "interval = [744.54, 773.22]\n",
    "y_t = 741.84\n",
    "ws = winkler_score(interval, y_t, alpha)\n",
    "print(round(ws, 2))"
   ]
  },
  {
   "cell_type": "markdown",
   "metadata": {},
   "source": [
    "if instead our y_t fell within the interval.  The winkler score would be equal to the width of the interval."
   ]
  },
  {
   "cell_type": "code",
   "execution_count": 5,
   "metadata": {},
   "outputs": [
    {
     "name": "stdout",
     "output_type": "stream",
     "text": [
      "Winkler score: 28.68; Interval width: 28.68\n"
     ]
    }
   ],
   "source": [
    "interval = [744.54, 773.22]\n",
    "y_t = 745.0\n",
    "ws = winkler_score(interval, y_t, alpha)\n",
    "print(f'Winkler score: {round(ws, 2)}; Interval width: {round(interval[1]-interval[0], 2)}')"
   ]
  },
  {
   "cell_type": "markdown",
   "metadata": {},
   "source": [
    "## Winkler score for multiple step prediction\n",
    "\n",
    "More commonly a model will generate a prediction over a multi-step horizon.  Here for example Seasonal naive is used to predict a 7 day holdout sample in the ED dataset."
   ]
  },
  {
   "cell_type": "code",
   "execution_count": 6,
   "metadata": {},
   "outputs": [
    {
     "name": "stdout",
     "output_type": "stream",
     "text": [
      "Winkler score: 130.75\n"
     ]
    }
   ],
   "source": [
    "HOLDOUT = 7\n",
    "PERIOD = 7\n",
    "\n",
    "attends = load_emergency_dept()\n",
    "\n",
    "# train-test split\n",
    "train, test = attends[:-HOLDOUT], attends[-HOLDOUT:]\n",
    "\n",
    "model = SNaive(PERIOD)\n",
    "\n",
    "# returns 80 and 90% prediction intervals by default.\n",
    "preds, intervals = model.fit_predict(train, HOLDOUT, return_predict_int=True)\n",
    "\n",
    "ws = winkler_score(intervals[0], test, alpha=0.2)\n",
    "print(f'Winkler score: {ws:.2f}')"
   ]
  }
 ],
 "metadata": {
  "kernelspec": {
   "display_name": "Python 3 (ipykernel)",
   "language": "python",
   "name": "python3"
  },
  "language_info": {
   "codemirror_mode": {
    "name": "ipython",
    "version": 3
   },
   "file_extension": ".py",
   "mimetype": "text/x-python",
   "name": "python",
   "nbconvert_exporter": "python",
   "pygments_lexer": "ipython3",
   "version": "3.10.13"
  }
 },
 "nbformat": 4,
 "nbformat_minor": 4
}
