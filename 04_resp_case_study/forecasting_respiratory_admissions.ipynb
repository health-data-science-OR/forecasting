{
 "cells": [
  {
   "cell_type": "markdown",
   "metadata": {},
   "source": [
    "# Forecasting respiratory admissions using ARIMA and Prophet\n",
    "\n",
    "> Respiratory illnesses are **highly** seasonal.  As people with respiratory conditions are more susceptable to illness in Winter and there is a higher circulation of viruses, such as influenza, hospitals generally experience far higher demand in this period of the year.\n",
    "\n",
    "**In this case study notebook:**\n",
    "\n",
    "* You will work with a daily level respiratory dataset and produce an 84 day (12 week) forecast ahead.\n",
    "* You will need to check that our selected method is better than a Naive benchmark.\n",
    "\n",
    "**You will learn:**\n",
    "\n",
    "* How to apply ARIMA and Prophet models and to select the most promising model using a holdout sample."
   ]
  },
  {
   "cell_type": "markdown",
   "metadata": {},
   "source": [
    "# Setup:\n",
    "\n",
    "## Standard imports"
   ]
  },
  {
   "cell_type": "code",
   "execution_count": null,
   "metadata": {},
   "outputs": [],
   "source": [
    "import pandas as pd\n",
    "import numpy as np\n",
    "import matplotlib.pyplot as plt"
   ]
  },
  {
   "cell_type": "markdown",
   "metadata": {},
   "source": [
    "## forecast-tools"
   ]
  },
  {
   "cell_type": "code",
   "execution_count": null,
   "metadata": {},
   "outputs": [],
   "source": [
    "from forecast_tools.model_selection import auto_naive\n",
    "from forecast_tools.metrics import coverage, mean_absolute_error"
   ]
  },
  {
   "cell_type": "markdown",
   "metadata": {},
   "source": [
    "## Importing ARIMA and Prophet"
   ]
  },
  {
   "cell_type": "code",
   "execution_count": null,
   "metadata": {},
   "outputs": [],
   "source": [
    "# arima\n",
    "from pmdarima import auto_arima, ARIMA\n",
    "import pmdarima as pm\n",
    "\n",
    "#should be version 1.6.0\n",
    "pm.__version__"
   ]
  },
  {
   "cell_type": "code",
   "execution_count": null,
   "metadata": {},
   "outputs": [],
   "source": [
    "# prophet \n",
    "from prophet import Prophet\n",
    "import prophet\n",
    "\n",
    "#should be version 1.0+\n",
    "prophet.__version__"
   ]
  },
  {
   "cell_type": "markdown",
   "metadata": {},
   "source": [
    "# Exercise 1: load and train test split respiratory admissions daily dataset\n",
    "\n",
    "The first split we will do in summer 2018.  Exercuise 4 will look at a winter split.\n",
    "\n",
    "**Task:**\n",
    "\n",
    "* Load the `resp_admissions.csv` dataset\n",
    "* Use the `date` column as your DateTimeIndex\n",
    "* Perform a train-test split holding back 84 days of data as a test set.\n",
    "* Plot the training data\n",
    "* Perform a seasonal decomposition"
   ]
  },
  {
   "cell_type": "code",
   "execution_count": null,
   "metadata": {},
   "outputs": [],
   "source": [
    "#example solution\n",
    "\n",
    "admits = pd.read_csv('../../hds_data/resp_admissions.csv', parse_dates=True, \n",
    "                     index_col='date', dayfirst=True, dtype='int')\n",
    "\n",
    "admits.index.freq = 'D'"
   ]
  },
  {
   "cell_type": "code",
   "execution_count": null,
   "metadata": {},
   "outputs": [],
   "source": [
    "admits.info()"
   ]
  },
  {
   "cell_type": "code",
   "execution_count": null,
   "metadata": {},
   "outputs": [],
   "source": [
    "# train test split\n",
    "holdout = 84\n",
    "training_length = len(admits) - holdout\n",
    "\n",
    "train = admits.iloc[:training_length]\n",
    "test = admits.iloc[training_length:]"
   ]
  },
  {
   "cell_type": "code",
   "execution_count": null,
   "metadata": {},
   "outputs": [],
   "source": [
    "train.plot(figsize=(12,4))"
   ]
  },
  {
   "cell_type": "markdown",
   "metadata": {},
   "source": [
    "# Exercise 2: Select a Naive forecasting benchmark\n",
    "\n",
    "**Task:** \n",
    "    \n",
    "* Select a Naive method to serve as a benchmark for ARIMA and Prophet.\n",
    "* Using a simple holdout sample calculate the MAE"
   ]
  },
  {
   "cell_type": "code",
   "execution_count": null,
   "metadata": {},
   "outputs": [],
   "source": [
    "# your code here ..."
   ]
  },
  {
   "cell_type": "code",
   "execution_count": null,
   "metadata": {},
   "outputs": [],
   "source": [
    "naive_model = auto_naive(train, seasonal_period=7)\n",
    "naive_model"
   ]
  },
  {
   "cell_type": "code",
   "execution_count": null,
   "metadata": {},
   "outputs": [],
   "source": [
    "naive_preds = naive_model['model'].fit_predict(train, horizon=len(test))\n",
    "mean_absolute_error(naive_preds, test)"
   ]
  },
  {
   "cell_type": "markdown",
   "metadata": {},
   "source": [
    "# Exercise 3: Modelling the series using an ARIMA \n",
    "\n",
    "Let's first model the series using an autoARIMA model.\n",
    "\n",
    "## Exercise 3.1. Use `auto_arima` to select ARIMA parameters\n",
    "\n",
    "**Task**:\n",
    "\n",
    "* Select and fit an ARIMA model.\n",
    "* What model was selected?"
   ]
  },
  {
   "cell_type": "code",
   "execution_count": null,
   "metadata": {},
   "outputs": [],
   "source": [
    "#your code here ..."
   ]
  },
  {
   "cell_type": "code",
   "execution_count": null,
   "metadata": {},
   "outputs": [],
   "source": [
    "# example solution\n",
    "\n",
    "# search for best model using auto_arima\n",
    "# arima_model = auto_arima(train, m=7, suppress_warnings=True)\n",
    "\n",
    "# best model = (3, 1, 2)(1, 0, 1, 7)\n",
    "arima_model = ARIMA(order=(3, 1, 2), seasonal_order=(1, 0, 1, 7), \n",
    "                    suppress_warnings=True)\n",
    "arima_model.fit(train)"
   ]
  },
  {
   "cell_type": "code",
   "execution_count": null,
   "metadata": {},
   "outputs": [],
   "source": [
    "# take a look at the best model.\n",
    "\n",
    "arima_model.summary()"
   ]
  },
  {
   "cell_type": "markdown",
   "metadata": {},
   "source": [
    "## Exercise 3.2 Use the ARIMA model to predict the test set in summer\n",
    "\n",
    "**Task**:\n",
    "   \n",
    "* Use your preferred ARIMA model to predict 84 days ahead\n",
    "* Produce a mean point forecast and a 95% prediction interval\n",
    "* Plot the predictions\n",
    "* Calculate the Mean Absolute Error of the prediction.\n",
    "* Calculate the Prediction Interval Coverage"
   ]
  },
  {
   "cell_type": "code",
   "execution_count": null,
   "metadata": {},
   "outputs": [],
   "source": [
    "#your code here ..."
   ]
  },
  {
   "cell_type": "code",
   "execution_count": null,
   "metadata": {},
   "outputs": [],
   "source": [
    "h = 84\n",
    "forecast = arima_model.predict(n_periods=h, alpha=0.05, return_conf_int=True)\n",
    "forecast = pd.concat([pd.DataFrame(forecast[0]), pd.DataFrame(forecast[1])], \n",
    "                     axis=1)\n",
    "forecast.columns=['mean', 'lower_95', 'upper_95']\n",
    "idx = pd.date_range(start=train.index[-1], periods=h+1, freq='D')[1:]\n",
    "forecast.index = idx\n",
    "forecast"
   ]
  },
  {
   "cell_type": "code",
   "execution_count": null,
   "metadata": {},
   "outputs": [],
   "source": [
    "# plot the mean forecast and 95% prediction interval\n",
    "\n",
    "fig, ax = plt.subplots(1, 1, figsize=(12,4))\n",
    "ax.plot(train['resp_admits'].iloc[-90:])\n",
    "ax.plot(forecast['mean'])\n",
    "ax.plot(test['resp_admits'])\n",
    "\n",
    "ax.fill_between(forecast.index, forecast['mean'], forecast['upper_95'],\n",
    "                alpha=0.2,\n",
    "                label='95% PI', color='purple');\n",
    "\n",
    "ax.fill_between(forecast.index, forecast['mean'], forecast['lower_95'],\n",
    "                alpha=0.2,\n",
    "                label='95% PI', color='purple');\n",
    "\n",
    "fig.legend(['train', 'point forecast', 'test', '_ignore', '95% PI'], \n",
    "           loc='upper center', ncol=4);"
   ]
  },
  {
   "cell_type": "code",
   "execution_count": null,
   "metadata": {},
   "outputs": [],
   "source": [
    "# Calculate MAE\n",
    "\n",
    "from pmdarima.metrics import smape\n",
    "\n",
    "rmse_arima = mean_absolute_error(forecast['mean'], test['resp_admits'])\n",
    "smape_arima = smape(forecast['mean'], test['resp_admits'])\n",
    "\n",
    "print(rmse_arima)\n",
    "print(smape_arima)"
   ]
  },
  {
   "cell_type": "markdown",
   "metadata": {},
   "source": [
    "# Exercise 4: Predict the time series using Prophet\n",
    "\n",
    "## Exercise 4.1: Wrangle the data into Prophet format\n",
    "\n",
    "Prophet requires the data to be in a `pd.DataFrame` with two columns: `ds` for date and `y` for the observations.\n",
    "\n",
    "**Task**: \n",
    "\n",
    "* Create a new `pd.DataFrame` for the respiratory admissions data.  \n",
    "* The data should be in the format suitable for `Prophet` models.\n",
    "\n",
    "**Hints:**\n",
    "* Create a copy of your original data\n",
    "* It might be useful to write a function to do the formatting.  This means you can easily reuse your code in the future.\n"
   ]
  },
  {
   "cell_type": "code",
   "execution_count": null,
   "metadata": {},
   "outputs": [],
   "source": [
    "# your code here ..."
   ]
  },
  {
   "cell_type": "code",
   "execution_count": null,
   "metadata": {},
   "outputs": [],
   "source": [
    "def prophet_formatted_df(df):\n",
    "    '''\n",
    "    Convert a pd.DataFrame with a DateTimeIndex into a prophet\n",
    "    formatted dataframe\n",
    "    \n",
    "    Returns:\n",
    "    ------\n",
    "    pd.DataFrame[['ds', 'y']]\n",
    "    '''\n",
    "    df_prophet = df.copy()\n",
    "    df_prophet = df_prophet.reset_index()\n",
    "    df_prophet.columns = ['ds', 'y']\n",
    "    return df_prophet\n",
    "    \n",
    "    "
   ]
  },
  {
   "cell_type": "code",
   "execution_count": null,
   "metadata": {},
   "outputs": [],
   "source": [
    "train_proph = prophet_formatted_df(train)\n",
    "train_proph.head()"
   ]
  },
  {
   "cell_type": "markdown",
   "metadata": {},
   "source": [
    "# Exercise 4.2: Fit and predict with the prophet model\n",
    "\n",
    "**Task**:\n",
    "    \n",
    "* Fit a `Prophet` model. (do not worry about holidays)\n",
    "* The `interval_width` should be 0.95\n",
    "* Predict 84 days into he future.\n",
    "* Plot the components and the forecast\n",
    "* Calculate the MAE of the Forecast\n",
    "* Calculate the Prediction Interval Coverage\n",
    "\n",
    "**Questions:**\n",
    "* Do you think Prophet offers anything over and above the ARIMA model in this instance?\n",
    "* If so what are concepts within Prophet that help?"
   ]
  },
  {
   "cell_type": "code",
   "execution_count": null,
   "metadata": {},
   "outputs": [],
   "source": [
    "#your code here ..."
   ]
  },
  {
   "cell_type": "code",
   "execution_count": null,
   "metadata": {},
   "outputs": [],
   "source": [
    "# example solution\n",
    "\n",
    "h = 84\n",
    "model = Prophet(interval_width=0.95)\n",
    "model.fit(train_proph)\n",
    "future = model.make_future_dataframe(periods=h)\n",
    "forecast = model.predict(future)"
   ]
  },
  {
   "cell_type": "code",
   "execution_count": null,
   "metadata": {},
   "outputs": [],
   "source": [
    "forecast.tail()"
   ]
  },
  {
   "cell_type": "code",
   "execution_count": null,
   "metadata": {},
   "outputs": [],
   "source": [
    "fig2 = model.plot_components(forecast)"
   ]
  },
  {
   "cell_type": "code",
   "execution_count": null,
   "metadata": {},
   "outputs": [],
   "source": [
    "#plot the mean forecast and 95% prediction interval\n",
    "f = forecast[['ds', 'yhat', 'yhat_lower', 'yhat_upper']].iloc[-h:]\n",
    "f.index = f['ds']\n",
    "f.index.freq = 'D'\n",
    "#f.drop(['ds'], inplace=True)\n",
    "\n",
    "fig, ax = plt.subplots(1, 1, figsize=(12,4))\n",
    "ax.plot(train['resp_admits'].iloc[-90:])\n",
    "ax.plot(f['yhat'])\n",
    "ax.plot(test['resp_admits'].iloc[:h])\n",
    "\n",
    "ax.fill_between(f.index, f['yhat'], f['yhat_upper'],\n",
    "                alpha=0.2,\n",
    "                label='95% PI', color='purple');\n",
    "\n",
    "ax.fill_between(f.index, f['yhat'], f['yhat_lower'],\n",
    "                alpha=0.2,\n",
    "                label='95% PI', color='purple');\n",
    "\n",
    "fig.legend(['train', 'point forecast', 'test', '_ignore', '95% PI'], \n",
    "           loc='upper center', ncol=4);"
   ]
  },
  {
   "cell_type": "code",
   "execution_count": null,
   "metadata": {},
   "outputs": [],
   "source": [
    "rmse_arima = mean_absolute_error(f['yhat'], test['resp_admits'].iloc[:h])\n",
    "smape_arima = smape(f['yhat'], test['resp_admits'].iloc[:h])\n",
    "\n",
    "print(rmse_arima)\n",
    "print(smape_arima)"
   ]
  },
  {
   "cell_type": "markdown",
   "metadata": {},
   "source": [
    "# Exercise 5: Forecasting just before the start of Winter\n",
    "\n",
    "Now let's assume we need to make a forecast from just before the onset of winter.\n",
    "\n",
    "**Task:**\n",
    "\n",
    "* Train test split using a holdout sample of 245 days (test will begin from late November 2017).\n",
    "* Fit an ARIMA(1, 0, 2)x(1, 0, 1, 7) and a Prophet model to the data.\n",
    "* Make a 84 day prediction.  \n",
    "* Include 95% prediction intervals\n",
    "* Plot the results.\n",
    "* Calculate MAE and Coverage for each forecast at 7 day intervals up to 84 days.  I.e. 7, 14, 28, ..., 84 \n",
    "\n",
    "**Hints:**\n",
    "* The ARIMA model was selected using `auto_arima`.  Feel free to check or try a different model. One option would be difference the time series.\n",
    "\n",
    "**Questions**:\n",
    "* What would you say the key differences between the models are?\n",
    "* Which forecast method would you choose and why?\n",
    "* How do the forecasts compare to a Naive model?"
   ]
  },
  {
   "cell_type": "code",
   "execution_count": null,
   "metadata": {},
   "outputs": [],
   "source": [
    "# your code goes here ..."
   ]
  },
  {
   "cell_type": "code",
   "execution_count": null,
   "metadata": {},
   "outputs": [],
   "source": [
    "# example solution\n",
    "\n",
    "#train test split\n",
    "holdout = 245\n",
    "training_length = len(admits) - holdout\n",
    "\n",
    "train = admits.iloc[:training_length]\n",
    "test = admits.iloc[training_length:]\n",
    "train.tail()"
   ]
  },
  {
   "cell_type": "code",
   "execution_count": null,
   "metadata": {},
   "outputs": [],
   "source": [
    "#ARIMA\n",
    "\n",
    "#auto select via AIC\n",
    "#arima_model = auto_arima(train, m=7, suppress_warnings=True, \n",
    "#                         error_action=\"ignore\")\n",
    "\n",
    "arima_model = ARIMA(order=(1,0,2), seasonal_order=(1, 0, 1, 7), \n",
    "                    suppress_warnings=True)\n",
    "arima_model.fit(train)\n",
    "arima_model.summary()"
   ]
  },
  {
   "cell_type": "code",
   "execution_count": null,
   "metadata": {},
   "outputs": [],
   "source": [
    "h = 84\n",
    "arima_forecast = arima_model.predict(n_periods=h, alpha=0.05, return_conf_int=True)\n",
    "arima_forecast = pd.concat([pd.DataFrame(arima_forecast[0]), \n",
    "                            pd.DataFrame(arima_forecast[1])], \n",
    "                            axis=1)\n",
    "arima_forecast.columns=['mean', 'lower_95', 'upper_95']\n",
    "idx = pd.date_range(start=train.index[-1], periods=h+1, freq='D')[1:]\n",
    "arima_forecast.index = idx\n",
    "arima_forecast.head()"
   ]
  },
  {
   "cell_type": "code",
   "execution_count": null,
   "metadata": {},
   "outputs": [],
   "source": [
    "train_proph = prophet_formatted_df(train)\n",
    "\n",
    "h = 84\n",
    "model = Prophet(interval_width=0.95)\n",
    "model.fit(train_proph)\n",
    "future = model.make_future_dataframe(periods=h)\n",
    "forecast = model.predict(future)"
   ]
  },
  {
   "cell_type": "code",
   "execution_count": null,
   "metadata": {},
   "outputs": [],
   "source": [
    "#plot the mean forecast and 95% prediction interval\n",
    "f = forecast[['ds', 'yhat', 'yhat_lower', 'yhat_upper']].iloc[-h:]\n",
    "f.index = f['ds']\n",
    "f.index.freq = 'D'\n",
    "#f.drop(['ds'], inplace=True)\n",
    "\n",
    "fig, ax = plt.subplots(2, 1, figsize=(12,8), sharex=True)\n",
    "\n",
    "#plot ARIMA\n",
    "ax[0].plot(train['resp_admits'].iloc[-90:])\n",
    "ax[0].plot(arima_forecast['mean'])\n",
    "ax[0].plot(test['resp_admits'].iloc[:h])\n",
    "\n",
    "ax[0].fill_between(arima_forecast.index, arima_forecast['mean'], \n",
    "                   arima_forecast['upper_95'],\n",
    "                   alpha=0.2,\n",
    "                   label='95% PI', color='purple');\n",
    "\n",
    "ax[0].fill_between(arima_forecast.index, \n",
    "                   arima_forecast['mean'], \n",
    "                   arima_forecast['lower_95'],\n",
    "                   alpha=0.2,\n",
    "                   label='95% PI', color='purple');\n",
    "\n",
    "#plot Prophet\n",
    "ax[1].plot(train['resp_admits'].iloc[-90:])\n",
    "ax[1].plot(f['yhat'])\n",
    "ax[1].plot(test['resp_admits'].iloc[:h])\n",
    "\n",
    "ax[1].fill_between(f.index, f['yhat'], f['yhat_upper'],\n",
    "                alpha=0.2,\n",
    "                label='95% PI', color='purple');\n",
    "\n",
    "ax[1].fill_between(f.index, f['yhat'], f['yhat_lower'],\n",
    "                alpha=0.2,\n",
    "                label='95% PI', color='purple');\n",
    "\n",
    "\n",
    "fig.legend(['train', 'point forecast', 'test', '_ignore', '95% PI'], \n",
    "           loc='lower center', ncol=4);"
   ]
  },
  {
   "cell_type": "code",
   "execution_count": null,
   "metadata": {},
   "outputs": [],
   "source": [
    "#calculate MAE and coverage at 7 days intervals during forecast period.\n",
    "h = 84\n",
    "horizons = [i for i in range(7, h+7, 7)]\n",
    "\n",
    "arima_results = []\n",
    "prophet_results = []\n",
    "\n",
    "arima_coverage = []\n",
    "prophet_coverage = []\n",
    "\n",
    "for h in horizons:\n",
    "    #mae\n",
    "    m1_mae = mean_absolute_error(arima_forecast['mean'].iloc[:h], \n",
    "                                 test['resp_admits'].iloc[:h])\n",
    "    m2_mae = mean_absolute_error(f['yhat'].iloc[:h], \n",
    "                                 test['resp_admits'].iloc[:h])\n",
    "    \n",
    "    #coverage\n",
    "    m1_cov = coverage(test['resp_admits'].iloc[:h], \n",
    "                      arima_forecast[['lower_95', 'upper_95']].iloc[:h].to_numpy())\n",
    "    \n",
    "    m2_cov = coverage(test['resp_admits'].iloc[:h], \n",
    "                      f[['yhat_lower', 'yhat_upper']].iloc[:h].to_numpy())\n",
    "    \n",
    "    arima_results.append(m1_mae)\n",
    "    prophet_results.append(m2_mae)\n",
    "    \n",
    "    arima_coverage.append(m1_cov)\n",
    "    prophet_coverage.append(m2_cov)\n",
    "\n",
    "fig, ax = plt.subplots(2, 1, figsize=(12, 8), sharex=True)\n",
    "ax[0].plot(horizons, arima_results, label='ARIMA')\n",
    "ax[0].plot(horizons, prophet_results, label='Prophet')\n",
    "\n",
    "ax[0].set_title('MAE')\n",
    "\n",
    "ax[1].plot(horizons, arima_coverage, label='ARIMA')\n",
    "ax[1].plot(horizons, prophet_coverage, label='Prophet')\n",
    "ax[1].axhline(y=0.95, color='r', linestyle='--')\n",
    "\n",
    "ax[1].set_xlabel('horizon (days)')\n",
    "ax[1].set_title('coverage')\n",
    "fig.legend(['ARIMA', 'Prophet'], ncol=2, loc='upper center')"
   ]
  },
  {
   "cell_type": "markdown",
   "metadata": {},
   "source": [
    "# Exercise 5: Adding in holidays to Prophet\n",
    "\n",
    "**Task:**\n",
    "\n",
    "* Add in Prophet's default holidays to test and refit the model\n",
    "* Explore the impact of holidays.\n",
    "* Use MAE and Coverage to compare the performance to the original version.\n",
    "\n",
    "\n",
    "**Hints:**\n",
    "\n",
    "* Prophet has built in routines to help.\n",
    "\n",
    "```python\n",
    "model.add_country_holidays(country_name='England')\n",
    "```\n",
    "\n",
    "**Questions**\n",
    "* Do you need all of the UK holidays?\n",
    "* Do the holiday effects make sense in the different seasons?\n",
    "* Is there a big impact on forecasting performance overall or is limited to the holidays?"
   ]
  },
  {
   "cell_type": "code",
   "execution_count": null,
   "metadata": {},
   "outputs": [],
   "source": [
    "#your code here..."
   ]
  },
  {
   "cell_type": "code",
   "execution_count": null,
   "metadata": {},
   "outputs": [],
   "source": [
    "#example solution\n",
    "\n",
    "train_proph = prophet_formatted_df(train)\n",
    "\n",
    "h = 84\n",
    "model = Prophet(interval_width=0.95, changepoint_prior_scale=0.3)\n",
    "model.add_country_holidays(country_name='England')\n",
    "model.fit(train_proph)\n",
    "future_with_holidays = model.make_future_dataframe(periods=h)\n",
    "forecast_holidays = model.predict(future_with_holidays)"
   ]
  },
  {
   "cell_type": "code",
   "execution_count": null,
   "metadata": {},
   "outputs": [],
   "source": [
    "#these are the holidays included by default\n",
    "model.train_holiday_names.to_list()"
   ]
  },
  {
   "cell_type": "code",
   "execution_count": null,
   "metadata": {},
   "outputs": [],
   "source": [
    "model.plot_components(forecast_holidays);"
   ]
  },
  {
   "cell_type": "code",
   "execution_count": null,
   "metadata": {},
   "outputs": [],
   "source": [
    "from fbprophet.plot import plot_forecast_component\n",
    "\n",
    "#christmas day\n",
    "plot_forecast_component(model, forecast_holidays, 'Christmas Day');"
   ]
  },
  {
   "cell_type": "code",
   "execution_count": null,
   "metadata": {},
   "outputs": [],
   "source": [
    "#New Year's Day - probably not useful\n",
    "plot_forecast_component(model, forecast_holidays, \"New Year's Day\");"
   ]
  },
  {
   "cell_type": "code",
   "execution_count": null,
   "metadata": {},
   "outputs": [],
   "source": [
    "plot_forecast_component(model, forecast_holidays, \"Spring Bank Holiday\");"
   ]
  },
  {
   "cell_type": "code",
   "execution_count": null,
   "metadata": {},
   "outputs": [],
   "source": [
    "#plot the mean forecast and 95% prediction interval\n",
    "\n",
    "#just predictions\n",
    "f2 = forecast_holidays[['ds', 'yhat', 'yhat_lower', 'yhat_upper']].iloc[-h:]\n",
    "f2.index = f2['ds']\n",
    "f2.index.freq = 'D'\n",
    "#f.drop(['ds'], inplace=True)\n",
    "\n",
    "fig, ax = plt.subplots(2, 1, figsize=(12,8), sharex=True)\n",
    "\n",
    "#plot Prophet with holidays\n",
    "ax[0].plot(train['resp_admits'].iloc[-90:])\n",
    "ax[0].plot(f2['yhat'])\n",
    "ax[0].plot(test['resp_admits'].iloc[:h])\n",
    "\n",
    "ax[0].fill_between(f2.index, f2['yhat'], f2['yhat_upper'],\n",
    "                alpha=0.2,\n",
    "                label='95% PI', color='purple');\n",
    "\n",
    "ax[0].fill_between(f2.index, f2['yhat'], f2['yhat_lower'],\n",
    "                alpha=0.2,\n",
    "                label='95% PI', color='purple');\n",
    "\n",
    "\n",
    "\n",
    "#plot Prophet \n",
    "ax[1].plot(train['resp_admits'].iloc[-90:])\n",
    "ax[1].plot(f['yhat'])\n",
    "ax[1].plot(test['resp_admits'].iloc[:h])\n",
    "\n",
    "ax[1].fill_between(f.index, f['yhat'], f['yhat_upper'],\n",
    "                alpha=0.2,\n",
    "                label='95% PI', color='purple');\n",
    "\n",
    "ax[1].fill_between(f.index, f['yhat'], f['yhat_lower'],\n",
    "                alpha=0.2,\n",
    "                label='95% PI', color='purple');\n",
    "\n",
    "\n",
    "fig.legend(['train', 'point forecast', 'test', '_ignore', '95% PI'], \n",
    "           loc='lower center', ncol=4);"
   ]
  },
  {
   "cell_type": "code",
   "execution_count": null,
   "metadata": {},
   "outputs": [],
   "source": [
    "#calculate MAE and coverage at 7 days intervals during forecast period.\n",
    "h = 84\n",
    "horizons = [i for i in range(7, h+7, 7)]\n",
    "\n",
    "holiday_results = []\n",
    "prophet_results = []\n",
    "\n",
    "holiday_coverage = []\n",
    "prophet_coverage = []\n",
    "\n",
    "for h in horizons:\n",
    "    #rmse\n",
    "    m1_mae = mean_absolute_error(f2['yhat'].iloc[:h], \n",
    "                                 test['resp_admits'].iloc[:h])\n",
    "    m2_mae = mean_absolute_error(f['yhat'].iloc[:h], \n",
    "                                 test['resp_admits'].iloc[:h])\n",
    "    \n",
    "    #coverage\n",
    "    m1_cov = coverage(test['resp_admits'].iloc[:h], \n",
    "                      f2[['yhat_lower', 'yhat_upper']].iloc[:h].to_numpy())\n",
    "    \n",
    "    m2_cov = coverage(test['resp_admits'].iloc[:h], \n",
    "                      f[['yhat_lower', 'yhat_upper']].iloc[:h].to_numpy())\n",
    "    \n",
    "    holiday_results.append(m1_mae)\n",
    "    prophet_results.append(m2_mae)\n",
    "    \n",
    "    holiday_coverage.append(m1_cov)\n",
    "    prophet_coverage.append(m2_cov)\n",
    "\n",
    "fig, ax = plt.subplots(2, 1, figsize=(12, 8), sharex=True)\n",
    "ax[0].plot(horizons, holiday_results, label='ARIMA')\n",
    "ax[0].plot(horizons, prophet_results, label='Prophet')\n",
    "\n",
    "ax[0].set_title('MAE')\n",
    "\n",
    "ax[1].plot(horizons, prophet_coverage, label='ARIMA')\n",
    "ax[1].plot(horizons, prophet_coverage, label='Prophet')\n",
    "ax[1].axhline(y=0.95, color='r', linestyle='--')\n",
    "\n",
    "ax[1].set_xlabel('horizon (days)')\n",
    "ax[1].set_title('coverage')\n",
    "fig.legend(['Prophet with Holidays', 'Prophet no tuning'], \n",
    "           ncol=2, loc='upper center')"
   ]
  },
  {
   "cell_type": "markdown",
   "metadata": {},
   "source": [
    "# Exercise 6: Forecasting respiratory admissions\n",
    "\n",
    "**Task**\n",
    "* Using all of the data and your selected model create a 84 day forecast."
   ]
  },
  {
   "cell_type": "code",
   "execution_count": null,
   "metadata": {},
   "outputs": [],
   "source": [
    "# your code here ..."
   ]
  },
  {
   "cell_type": "code",
   "execution_count": null,
   "metadata": {},
   "outputs": [],
   "source": [
    "train_proph = prophet_formatted_df(admits)\n",
    "\n",
    "h = 84\n",
    "model = Prophet(interval_width=0.95)\n",
    "model.add_country_holidays(country_name='England')\n",
    "model.fit(train_proph)\n",
    "future = model.make_future_dataframe(periods=h)\n",
    "final_forecast = model.predict(future)"
   ]
  },
  {
   "cell_type": "code",
   "execution_count": null,
   "metadata": {},
   "outputs": [],
   "source": [
    "#plot the mean forecast and 95% prediction interval\n",
    "\n",
    "#just predictions\n",
    "f3 = final_forecast[['ds', 'yhat', 'yhat_lower', 'yhat_upper']].iloc[-h:]\n",
    "f3.index = f3['ds']\n",
    "f3.index.freq = 'D'\n",
    "\n",
    "\n",
    "fig, ax = plt.subplots(1, 1, figsize=(12,8), sharex=True)\n",
    "\n",
    "#plot Prophet with holidays\n",
    "ax.plot(admits['resp_admits'].iloc[-365:])\n",
    "ax.plot(f3['yhat'])\n",
    "\n",
    "ax.fill_between(f3.index, f3['yhat'], f3['yhat_upper'],\n",
    "                alpha=0.2,\n",
    "                label='95% PI', color='purple');\n",
    "\n",
    "ax.fill_between(f3.index, f3['yhat'], f3['yhat_lower'],\n",
    "                alpha=0.2,\n",
    "                label='95% PI', color='purple');"
   ]
  },
  {
   "cell_type": "markdown",
   "metadata": {},
   "source": []
  },
  {
   "cell_type": "code",
   "execution_count": null,
   "metadata": {},
   "outputs": [],
   "source": [
    "# your code here ..."
   ]
  },
  {
   "cell_type": "markdown",
   "metadata": {},
   "source": [
    "# Bonus Exercise 7:\n",
    "**Task**\n",
    "* Try a log transform of the data\n",
    "* Does this improve forecast accuracy?\n",
    "\n",
    "**Hints**\n",
    "* Don't forget to back transform your predictions"
   ]
  },
  {
   "cell_type": "code",
   "execution_count": null,
   "metadata": {},
   "outputs": [],
   "source": [
    "# your code here ..."
   ]
  },
  {
   "cell_type": "code",
   "execution_count": null,
   "metadata": {},
   "outputs": [],
   "source": [
    "admit_ln = np.log(admits)\n",
    "\n",
    "#train test split\n",
    "holdout = 84\n",
    "training_length = len(admits) - holdout\n",
    "\n",
    "train_ln = admits.iloc[:training_length]\n",
    "test_ln = admits.iloc[training_length:]"
   ]
  },
  {
   "cell_type": "code",
   "execution_count": null,
   "metadata": {},
   "outputs": [],
   "source": [
    "#compare original and logged data\n",
    "\n",
    "fig, ax = plt.subplots(2, 1, figsize=(12,8), sharex=True)\n",
    "ax[0].plot(admits)\n",
    "ax[1].plot(admit_ln)"
   ]
  },
  {
   "cell_type": "code",
   "execution_count": null,
   "metadata": {},
   "outputs": [],
   "source": [
    "naive_model = auto_naive(train, seasonal_period=7)\n",
    "naive_model\n",
    "\n",
    "naive_preds = naive_model['model'].fit_predict(train_ln, horizon=len(test))\n",
    "mean_absolute_error(naive_preds, test)"
   ]
  },
  {
   "cell_type": "code",
   "execution_count": null,
   "metadata": {},
   "outputs": [],
   "source": [
    "#ARIMA\n",
    "\n",
    "#auto select via AIC\n",
    "#arima_model = auto_arima(train_ln, m=7, suppress_warnings=True, \n",
    "#                         error_action=\"ignore\")\n",
    "\n",
    "arima_model = ARIMA(order=(3,1,2), seasonal_order=(1, 0, 1, 7), \n",
    "                    suppress_warnings=True)\n",
    "arima_model.fit(train_ln)\n",
    "arima_model.summary()"
   ]
  },
  {
   "cell_type": "code",
   "execution_count": null,
   "metadata": {},
   "outputs": [],
   "source": [
    "h = 84\n",
    "arima_forecast = arima_model.predict(n_periods=h, alpha=0.05, \n",
    "                                     return_conf_int=True)\n",
    "arima_forecast = pd.concat([pd.DataFrame(arima_forecast[0]), \n",
    "                            pd.DataFrame(arima_forecast[1])], \n",
    "                            axis=1)\n",
    "arima_forecast.columns=['mean', 'lower_95', 'upper_95']\n",
    "idx = pd.date_range(start=train_ln.index[-1], periods=h+1, freq='D')[1:]\n",
    "arima_forecast.index = idx\n",
    "\n",
    "mean_absolute_error(arima_forecast['mean'], test)"
   ]
  },
  {
   "cell_type": "code",
   "execution_count": null,
   "metadata": {},
   "outputs": [],
   "source": [
    "#previous best Prophet\n",
    "\n",
    "train_proph = prophet_formatted_df(train)\n",
    "\n",
    "h = 84\n",
    "model = Prophet(interval_width=0.95)\n",
    "model.add_country_holidays(country_name='England')\n",
    "model.fit(train_proph)\n",
    "future = model.make_future_dataframe(periods=h)\n",
    "best_forecast = model.predict(future)"
   ]
  },
  {
   "cell_type": "code",
   "execution_count": null,
   "metadata": {},
   "outputs": [],
   "source": [
    "#Prophet\n",
    "train_proph = prophet_formatted_df(train_ln)\n",
    "\n",
    "h = 84\n",
    "model = Prophet(interval_width=0.95)\n",
    "model.add_country_holidays(country_name='England')\n",
    "model.fit(train_proph)\n",
    "future = model.make_future_dataframe(periods=h)\n",
    "forecast_ln = model.predict(future)"
   ]
  },
  {
   "cell_type": "code",
   "execution_count": null,
   "metadata": {},
   "outputs": [],
   "source": [
    "mean_absolute_error(forecast_ln['yhat'].iloc[-h:], test_ln)"
   ]
  },
  {
   "cell_type": "code",
   "execution_count": null,
   "metadata": {},
   "outputs": [],
   "source": [
    "#plot the mean forecast and 95% prediction interval\n",
    "\n",
    "#just predictions\n",
    "f2 = forecast_ln[['ds', 'yhat', 'yhat_lower', 'yhat_upper']].iloc[-h:]\n",
    "f2.index = f2['ds']\n",
    "f2.index.freq = 'D'\n",
    "\n",
    "fig, ax = plt.subplots(2, 1, figsize=(12,8), sharex=True)\n",
    "\n",
    "#plot ARIMA\n",
    "ax[0].plot(train_ln['resp_admits'].iloc[-90:])\n",
    "ax[0].plot(arima_forecast['mean'])\n",
    "ax[0].plot(test_ln['resp_admits'].iloc[:h])\n",
    "\n",
    "ax[0].fill_between(arima_forecast.index, arima_forecast['mean'], \n",
    "                   arima_forecast['upper_95'],\n",
    "                   alpha=0.2,\n",
    "                   label='95% PI', color='purple');\n",
    "\n",
    "ax[0].fill_between(arima_forecast.index, \n",
    "                  arima_forecast['mean'], \n",
    "                   arima_forecast['lower_95'],\n",
    "                   alpha=0.2,\n",
    "                   label='95% PI', color='purple');\n",
    "\n",
    "#plot Prophet \n",
    "ax[1].plot(train_ln['resp_admits'].iloc[-90:])\n",
    "ax[1].plot(f2['yhat'])\n",
    "ax[1].plot(test_ln['resp_admits'].iloc[:h])\n",
    "\n",
    "ax[1].fill_between(f2.index, f2['yhat'], f2['yhat_upper'],\n",
    "                alpha=0.2,\n",
    "                label='95% PI', color='purple');\n",
    "\n",
    "ax[1].fill_between(f2.index, f2['yhat'], f2['yhat_lower'],\n",
    "                alpha=0.2,\n",
    "                label='95% PI', color='purple');\n",
    "\n",
    "\n",
    "fig.legend(['train', 'point forecast', 'test', '_ignore', '95% PI'], \n",
    "           loc='lower center', ncol=4);"
   ]
  },
  {
   "cell_type": "code",
   "execution_count": null,
   "metadata": {},
   "outputs": [],
   "source": [
    "#calculate MAE and coverage at 7 days intervals during forecast period.\n",
    "h = 84\n",
    "horizons = [i for i in range(7, h+7, 7)]\n",
    "\n",
    "f = forecast_ln[['ds', 'yhat', 'yhat_lower', 'yhat_upper']].iloc[-h:]\n",
    "f.index = f['ds']\n",
    "f.index.freq = 'D'\n",
    "\n",
    "f3 = best_forecast[['ds', 'yhat', 'yhat_lower', 'yhat_upper']].iloc[-h:]\n",
    "f3.index = f3['ds']\n",
    "f3.index.freq = 'D'\n",
    "\n",
    "\n",
    "arima_results = []\n",
    "prophet_results = []\n",
    "previous_best_results = []\n",
    "\n",
    "arima_coverage = []\n",
    "prophet_coverage = []\n",
    "previous_best_coverage = []\n",
    "\n",
    "for h in horizons:\n",
    "    #mae\n",
    "    \n",
    "    #arima logged data\n",
    "    m1_mae = mean_absolute_error(arima_forecast['mean'].iloc[:h], \n",
    "                                 test_ln['resp_admits'].iloc[:h])\n",
    "    #prophet logged data\n",
    "    m2_mae = mean_absolute_error(f['yhat'].iloc[:h], \n",
    "                                 test_ln['resp_admits'].iloc[:h])\n",
    "    \n",
    "    #from previous best model (unlogged data)\n",
    "    m3_mae = mean_absolute_error(f3['yhat'].iloc[:h], \n",
    "                                 test['resp_admits'].iloc[:h])\n",
    "    \n",
    "    #coverage\n",
    "    \n",
    "    # arima logged\n",
    "    m1_cov = coverage(test_ln['resp_admits'].iloc[:h], \n",
    "                      arima_forecast[['lower_95', 'upper_95']].iloc[:h].to_numpy())\n",
    "    \n",
    "    # prophet logged\n",
    "    m2_cov = coverage(test_ln['resp_admits'].iloc[:h], \n",
    "                      f[['yhat_lower', 'yhat_upper']].iloc[:h].to_numpy())\n",
    "    \n",
    "    # prophet unlogged\n",
    "    m3_cov = coverage(test['resp_admits'].iloc[:h], \n",
    "                      f3[['yhat_lower', 'yhat_upper']].iloc[:h].to_numpy())\n",
    "    \n",
    "    arima_results.append(m1_mae)\n",
    "    prophet_results.append(m2_mae)\n",
    "    previous_best_results.append(m3_mae)\n",
    "    \n",
    "    arima_coverage.append(m1_cov)\n",
    "    prophet_coverage.append(m2_cov)\n",
    "    previous_best_coverage.append(m3_cov)\n",
    "\n",
    "fig, ax = plt.subplots(2, 1, figsize=(12, 8), sharex=True)\n",
    "ax[0].plot(horizons, arima_results, label='ARIMA')\n",
    "ax[0].plot(horizons, prophet_results, label='Prophet')\n",
    "ax[0].plot(horizons, previous_best_results, label='Prophet unlogged data')\n",
    "\n",
    "ax[0].set_title('MAE')\n",
    "\n",
    "ax[1].plot(horizons, arima_coverage, label='ARIMA (logged data)')\n",
    "ax[1].plot(horizons, prophet_coverage, label='Prophet (logged data)')\n",
    "ax[1].plot(horizons, previous_best_coverage, label='Prophet unlogged data')\n",
    "ax[1].axhline(y=0.95, color='r', linestyle='--')\n",
    "\n",
    "ax[1].set_xlabel('horizon (days)')\n",
    "ax[1].set_title('coverage')\n",
    "fig.legend(['ARIMA', 'Prophet', 'Prophet unlogged'], \n",
    "           ncol=2, loc='upper center')"
   ]
  },
  {
   "cell_type": "markdown",
   "metadata": {},
   "source": [
    "# Bonus Exercise 8: Cross-Validation\n",
    "\n",
    "**Task**:\n",
    "* Use time series cross validation to compare ARIMA, Prophet and the Naive model."
   ]
  },
  {
   "cell_type": "code",
   "execution_count": null,
   "metadata": {},
   "outputs": [],
   "source": []
  }
 ],
 "metadata": {
  "kernelspec": {
   "display_name": "Python 3 (ipykernel)",
   "language": "python",
   "name": "python3"
  },
  "language_info": {
   "codemirror_mode": {
    "name": "ipython",
    "version": 3
   },
   "file_extension": ".py",
   "mimetype": "text/x-python",
   "name": "python",
   "nbconvert_exporter": "python",
   "pygments_lexer": "ipython3",
   "version": "3.10.13"
  }
 },
 "nbformat": 4,
 "nbformat_minor": 4
}
