{
 "cells": [
  {
   "cell_type": "markdown",
   "metadata": {},
   "source": [
    "# Computer Lab 4: Forecasting Daily Data using Facebook Prophet\n",
    "\n",
    "**In this practical you will learn:**\n",
    "\n",
    "* How to wrangle time series data into `Prophet` format\n",
    "* How to fit a `Prophet` model to a time series\n",
    "* How to obtain a point forecast and prediction intervals using `Prophet`\n",
    "* How to model special calender events.\n",
    "* How to use `Prophet`'s built in diagnostic and cross validation tools\n",
    "\n",
    "---\n",
    "* Video to introduce the notebook: https://bit.ly/intro_prophet\n",
    "> Note that in this video I use a slightly older version of Prophet.  The only material difference is that prior to version 1.0 (that we are using) you imported from `fbprophet` instead of `prophet`!\n",
    "---"
   ]
  },
  {
   "cell_type": "markdown",
   "metadata": {},
   "source": [
    "## Standard Imports"
   ]
  },
  {
   "cell_type": "code",
   "execution_count": null,
   "metadata": {},
   "outputs": [],
   "source": [
    "import numpy as np\n",
    "import pandas as pd\n",
    "import matplotlib.pyplot as plt\n",
    "import sys"
   ]
  },
  {
   "cell_type": "markdown",
   "metadata": {},
   "source": [
    "## FB Prophet Imports\n",
    "\n",
    "If you are using the provided conda environment `hds_forecast` you will already have `prophet` installed.  \n",
    "\n",
    "> At the time of writing a slightly older version of Prophet is also installed by default in Google Colab.  For this version you will need to use `import fbprophet` instead of `import prophet`"
   ]
  },
  {
   "cell_type": "code",
   "execution_count": null,
   "metadata": {},
   "outputs": [],
   "source": [
    "from prophet import Prophet\n",
    "\n",
    "import prophet\n",
    "\n",
    "# should be version 1.0\n",
    "prophet.__version__"
   ]
  },
  {
   "cell_type": "markdown",
   "metadata": {},
   "source": [
    "## forecast-tools imports"
   ]
  },
  {
   "cell_type": "code",
   "execution_count": null,
   "metadata": {},
   "outputs": [],
   "source": [
    "# if running in Google Colab install forecast-tools\n",
    "if 'google.colab' in sys.modules:\n",
    "    !pip install forecast-tools"
   ]
  },
  {
   "cell_type": "code",
   "execution_count": null,
   "metadata": {},
   "outputs": [],
   "source": [
    "from forecast_tools.model_selection import auto_naive\n",
    "from forecast_tools.metrics import mean_absolute_error"
   ]
  },
  {
   "cell_type": "markdown",
   "metadata": {},
   "source": [
    "# ARIMA imports\n",
    "\n",
    "At the end of the notebook we will compare Prophet's performance to ARIMA"
   ]
  },
  {
   "cell_type": "code",
   "execution_count": null,
   "metadata": {},
   "outputs": [],
   "source": [
    "# if running in Google Colab install pmdarima\n",
    "if 'google.colab' in sys.modules:\n",
    "    !pip install pmdarima\n",
    "\n",
    "from pmdarima import auto_arima, ARIMA"
   ]
  },
  {
   "cell_type": "markdown",
   "metadata": {},
   "source": [
    "# Data - ED reattendances\n",
    "\n",
    "We will use an time series of patients that reattend an ED within 7 days.  The data are held at the **daily** level.\n",
    "\n",
    "The data is held in the file `ed_reattends_day.csv`\n",
    "\n",
    "# Exercise 1: Read in and adjust\n",
    "\n",
    "**Task:**\n",
    "\n",
    "* Load `ed_reattends_day.csv` (url provided below)\n",
    "* Plot the data\n",
    "* Name the `pd.DataFrame` you create `y_train`\n",
    "\n",
    "**Hints**\n",
    "\n",
    "* The data is stored in UK day first format.\n",
    "* Remember to set the freq of the DataTimeIndex\n",
    "\n",
    "**Questions**:\n",
    "* How would you describe the time series?"
   ]
  },
  {
   "cell_type": "code",
   "execution_count": null,
   "metadata": {},
   "outputs": [],
   "source": [
    "# your code here ...\n",
    "url = 'https://raw.githubusercontent.com/health-data-science-OR/' \\\n",
    "      + 'hpdm097-datasets/master/ed_reattends_day.csv'"
   ]
  },
  {
   "cell_type": "code",
   "execution_count": null,
   "metadata": {},
   "outputs": [],
   "source": [
    "# example solution\n",
    "y_train = pd.read_csv(url, parse_dates=True, \n",
    "                            dayfirst=True, index_col='date')\n",
    "y_train.index.freq = 'D'"
   ]
  },
  {
   "cell_type": "code",
   "execution_count": null,
   "metadata": {},
   "outputs": [],
   "source": [
    "_ = y_train.plot(figsize=(12,4))"
   ]
  },
  {
   "cell_type": "markdown",
   "metadata": {},
   "source": [
    "# Exercise 2: Wrangle the data into Prophet Format\n",
    "\n",
    "A `Prophet` model requires the data in a `pd.DataFrame` with two columns: 'ds' - the datetimestamp and `y` the observations used in training (the index is an arbitrary numeric value).  But your current (and standard form) dataframe has a datetimeindex \n",
    "\n",
    "**Task:**\n",
    "\n",
    "* Code a function that converts the training data into the correct format for Prophet.\n",
    "* The end product should be a dataframe with 2 columns (in the following order)\n",
    " * 'ds': the date\n",
    " * 'y': the number of reattends on that day.\n",
    "* Convert your data"
   ]
  },
  {
   "cell_type": "code",
   "execution_count": null,
   "metadata": {},
   "outputs": [],
   "source": [
    "# your code goes here..."
   ]
  },
  {
   "cell_type": "code",
   "execution_count": null,
   "metadata": {},
   "outputs": [],
   "source": [
    "# example solution\n",
    "\n",
    "def prophet_training_data(y_train):\n",
    "    '''\n",
    "    Converts a standard pandas datetimeindexed dataframe\n",
    "    for time series into one suitable for Prophet\n",
    "    Parameters:\n",
    "    ---------\n",
    "    y_train: pd.DataFrame\n",
    "        univariate time series data\n",
    "        \n",
    "    Returns:\n",
    "    --------\n",
    "        pd.DataFrame in Prophet format \n",
    "        columns = ['ds', 'y']\n",
    "    '''\n",
    "    prophet_train = pd.DataFrame(y_train.index)\n",
    "    prophet_train['y'] = y_train.to_numpy()\n",
    "    prophet_train.columns = ['ds', 'y']\n",
    "\n",
    "    return prophet_train"
   ]
  },
  {
   "cell_type": "code",
   "execution_count": null,
   "metadata": {},
   "outputs": [],
   "source": [
    "yp_train = prophet_training_data(y_train)"
   ]
  },
  {
   "cell_type": "code",
   "execution_count": null,
   "metadata": {},
   "outputs": [],
   "source": [
    "yp_train.head()"
   ]
  },
  {
   "cell_type": "markdown",
   "metadata": {},
   "source": [
    "# Exercise 3: Fit and predict using a basic Prophet model\n",
    "\n",
    "Fitting a basic Prophet model is relatively straightforward.  We need to create a `Prophet` object\n",
    "\n",
    "```python\n",
    "model = Prophet()\n",
    "```\n",
    "Unlike ARIMA where we specified the prediction interval width at prediction time, with Prophet we need to specify the interval width as we create the model.  We do this using the parameter `interval_width`.  By default this produces a 80\\% prediction interval.  Note we specify a $1-\\alpha$ interval width (unlike in ARIMA where we specified $\\alpha$)\n",
    "\n",
    "```python\n",
    "model = Prophet(interval_width=0.95)\n",
    "```\n",
    "\n",
    "and call `.fit()` passing in the training data.\n",
    "\n",
    "```python\n",
    "model.fit(y_train)\n",
    "```\n",
    "\n",
    "## Exercise 3.1 Fitting\n",
    "**Task:**\n",
    "\n",
    "* Fit a basic `Prophet` model to the training data\n",
    "* Set the model up to produce 95\\% prediction intervals"
   ]
  },
  {
   "cell_type": "code",
   "execution_count": null,
   "metadata": {},
   "outputs": [],
   "source": [
    "# your code here ..."
   ]
  },
  {
   "cell_type": "code",
   "execution_count": null,
   "metadata": {},
   "outputs": [],
   "source": [
    "# example solution\n",
    "model = Prophet(interval_width=0.95)\n",
    "model.fit(yp_train)"
   ]
  },
  {
   "cell_type": "markdown",
   "metadata": {},
   "source": [
    "# Exercise 3.2 Forecasting\n",
    "\n",
    "There are two steps to makeing a forecast with a fitted `Prophet` model.  You must first create a future dataframe.  This is a `pd.DataFrame` with a single column 'ds' that runs from the start of the training period until the end of the training period + a horizon.  Prophet makes this easy by including a `make_future_dataframe()` method.\n",
    "\n",
    "```python\n",
    "future = model.make_future_dataframe(periods=28)\n",
    "```\n",
    "\n",
    "Once we have the future dataframe we can pass that to the predict method.\n",
    "\n",
    "```python\n",
    "prophet_forecast = model.predict(future)\n",
    "```\n",
    "\n",
    "This returns a `pd.DataFrame` that contains both the in-sample fitted values and the out of sample forecasts. It contains all of the components of the fitted model. For example the last 5 rows of a forecast are:\n",
    "\n",
    "|      | ds                  |   trend |   yhat_lower |   yhat_upper |   trend_lower |   trend_upper |   additive_terms |   additive_terms_lower |   additive_terms_upper |    weekly |   weekly_lower |   weekly_upper |   yearly |   yearly_lower |   yearly_upper |   multiplicative_terms |   multiplicative_terms_lower |   multiplicative_terms_upper |    yhat |\n",
    "|-----:|:--------------------|--------:|-------------:|-------------:|--------------:|--------------:|-----------------:|-----------------------:|-----------------------:|----------:|---------------:|---------------:|---------:|---------------:|---------------:|-----------------------:|-----------------------------:|-----------------------------:|--------:|\n",
    "| 1629 | 2018-09-18 00:00:00 | 187.353 |      163.694 |      236.271 |       186.22  |       188.383 |        11.0807   |              11.0807   |              11.0807   |  -2.83494 |       -2.83494 |       -2.83494 |  13.9156 |        13.9156 |        13.9156 |                      0 |                            0 |                            0 | 198.433 |\n",
    "| 1630 | 2018-09-19 00:00:00 | 187.305 |      157.7   |      226.979 |       186.153 |       188.356 |         5.91039  |               5.91039  |               5.91039  |  -7.49286 |       -7.49286 |       -7.49286 |  13.4032 |        13.4032 |        13.4032 |                      0 |                            0 |                            0 | 193.215 |\n",
    "| 1631 | 2018-09-20 00:00:00 | 187.257 |      150.343 |      224.271 |       186.088 |       188.328 |         0.527382 |               0.527382 |               0.527382 | -12.3179  |      -12.3179  |      -12.3179  |  12.8452 |        12.8452 |        12.8452 |                      0 |                            0 |                            0 | 187.785 |\n",
    "| 1632 | 2018-09-21 00:00:00 | 187.209 |      156.873 |      226.588 |       186.023 |       188.3   |         3.90459  |               3.90459  |               3.90459  |  -8.34281 |       -8.34281 |       -8.34281 |  12.2474 |        12.2474 |        12.2474 |                      0 |                            0 |                            0 | 191.114 |\n",
    "| 1633 | 2018-09-22 00:00:00 | 187.162 |      169.299 |      241.272 |       185.954 |       188.272 |        15.9777   |              15.9777   |              15.9777   |   4.36149 |        4.36149 |        4.36149 |  11.6162 |        11.6162 |        11.6162 |                      0 |                            0 |                            0 | 203.139 |\n",
    "\n",
    "\n",
    "We can the plot the forecast using Prophet's built in functionality\n",
    "\n",
    "```python\n",
    "model.plot(prophet_forecast);\n",
    "```\n",
    "\n",
    "In the plot you will see\n",
    "\n",
    "* Black dots - these represent the actual observations (training data)\n",
    "* Blue line - this represents the point forecast\n",
    "* Light blue shaded region - this is the 95\\% prediction interval\n",
    "\n",
    "**Task:**\n",
    "* Use your Prophet model to make a 84 day prediction.\n",
    "* Plot the prediction"
   ]
  },
  {
   "cell_type": "code",
   "execution_count": null,
   "metadata": {},
   "outputs": [],
   "source": [
    "# your code here ..."
   ]
  },
  {
   "cell_type": "code",
   "execution_count": null,
   "metadata": {},
   "outputs": [],
   "source": [
    "# example solution\n",
    "future = model.make_future_dataframe(periods=84)\n",
    "future"
   ]
  },
  {
   "cell_type": "code",
   "execution_count": null,
   "metadata": {},
   "outputs": [],
   "source": [
    "prophet_forecast = model.predict(future)\n",
    "prophet_forecast.tail(5)"
   ]
  },
  {
   "cell_type": "code",
   "execution_count": null,
   "metadata": {},
   "outputs": [],
   "source": [
    "model.plot(prophet_forecast);"
   ]
  },
  {
   "cell_type": "markdown",
   "metadata": {},
   "source": [
    "# Exercise 4: Plot the model components\n",
    "\n",
    "To decompose the Prophet model and see the trend and seasonal components you can call:\n",
    "\n",
    "```python\n",
    "model.plot_components(forecast)\n",
    "```\n",
    "\n",
    "**Task:**\n",
    "\n",
    "* Plot the Prophet model's trend and seasonal components.\n",
    "\n",
    "\n",
    "**Questions:**\n",
    "* What observations can you make about the weekly (i.e. days of the week) and yearly (i.e months of the year) seasonality?"
   ]
  },
  {
   "cell_type": "code",
   "execution_count": null,
   "metadata": {},
   "outputs": [],
   "source": [
    "model.plot_components(prophet_forecast);"
   ]
  },
  {
   "cell_type": "markdown",
   "metadata": {},
   "source": [
    "\n",
    "# Exercise 5: Adding standard holidays\n",
    "\n",
    "As this is ED reattendance data at the daily level, it is likely that we will be seeing some calender day/holiday effects.  Prophet has been designed to deal with 'holidays'.  Effectively a series of binary variables are added for each holiday.\n",
    "\n",
    "Prophet has a number of standard holidays built in by country.  To add them in for 'England' you would use the following code:\n",
    "\n",
    "```python\n",
    "model = Prophet(interval_width=0.95)\n",
    "model.add_country_holidays(country_name='England')\n",
    "model.fit(y_train)\n",
    "```\n",
    "\n",
    "Note that you call the `add_country_holidays` **before** you fit the model.  This is because it is command telling Prophet what you would like to fit.\n",
    "\n",
    "To see what models have been fitted you can call:\n",
    "\n",
    "```python\n",
    "model.train_holiday_names.to_list()\n",
    "```\n",
    "\n",
    "When you plot the components of the model a new panel will be added for holidays.  It can sometimes be a bit difficult to which holidays are having which effect so you can plot individual holidays as follows:\n",
    "\n",
    "```python\n",
    "from fbprophet.plot import plot_forecast_component\n",
    "\n",
    "plot_forecast_component(model, prophet_forecast, 'Christmas Day');\n",
    "```\n",
    "\n",
    "**Task:**\n",
    "\n",
    "* Modify your code to include a holidays for 'England'\n",
    "* Make an 84 day forecast\n",
    "* Plot the model components. \n",
    "* Explore the holidays\n",
    "\n",
    "**Questions:**\n",
    "\n",
    "* What do you notice about Christmas day, Easter Monday and Good Friday?  Are there any other days that appear important?\n",
    "\n",
    "**Hints:**\n",
    "* Take a look at the new forecast dataframe.  This includes new columns with the effect of each `holidays`."
   ]
  },
  {
   "cell_type": "code",
   "execution_count": null,
   "metadata": {},
   "outputs": [],
   "source": [
    "# your code here ..."
   ]
  },
  {
   "cell_type": "code",
   "execution_count": null,
   "metadata": {},
   "outputs": [],
   "source": [
    "# example solution\n",
    "model = Prophet(interval_width=0.95)\n",
    "model.add_country_holidays(country_name='England')\n",
    "model.fit(yp_train)"
   ]
  },
  {
   "cell_type": "code",
   "execution_count": null,
   "metadata": {},
   "outputs": [],
   "source": [
    "model.train_holiday_names.to_list()"
   ]
  },
  {
   "cell_type": "code",
   "execution_count": null,
   "metadata": {},
   "outputs": [],
   "source": [
    "future = model.make_future_dataframe(periods=84)\n",
    "prophet_forecast = model.predict(future)"
   ]
  },
  {
   "cell_type": "code",
   "execution_count": null,
   "metadata": {},
   "outputs": [],
   "source": [
    "model.plot_components(prophet_forecast);"
   ]
  },
  {
   "cell_type": "code",
   "execution_count": null,
   "metadata": {},
   "outputs": [],
   "source": [
    "prophet_forecast.columns"
   ]
  },
  {
   "cell_type": "code",
   "execution_count": null,
   "metadata": {},
   "outputs": [],
   "source": [
    "from prophet.plot import plot_forecast_component\n",
    "plot_forecast_component(model, prophet_forecast, 'Christmas Day');"
   ]
  },
  {
   "cell_type": "code",
   "execution_count": null,
   "metadata": {},
   "outputs": [],
   "source": [
    "plot_forecast_component(model, prophet_forecast, 'Easter Monday');"
   ]
  },
  {
   "cell_type": "code",
   "execution_count": null,
   "metadata": {},
   "outputs": [],
   "source": [
    "plot_forecast_component(model, prophet_forecast, 'Good Friday');"
   ]
  },
  {
   "cell_type": "code",
   "execution_count": null,
   "metadata": {},
   "outputs": [],
   "source": [
    "# Adding a day of month seasonality."
   ]
  },
  {
   "cell_type": "code",
   "execution_count": null,
   "metadata": {},
   "outputs": [],
   "source": [
    "model = Prophet(interval_width=0.95, daily_seasonality=False)\n",
    "model.add_country_holidays(country_name='England')\n",
    "model.add_seasonality(name='monthly', period=30.5, fourier_order=5)\n",
    "model.fit(yp_train)\n",
    "future = model.make_future_dataframe(periods=84)\n",
    "prophet_forecast = model.predict(future)\n",
    "model.plot_components(prophet_forecast);"
   ]
  },
  {
   "cell_type": "markdown",
   "metadata": {},
   "source": [
    "# Exercise 6: Cross Validation\n",
    "\n",
    "FBProphet provides its own cross validation procedures in the `diagnostics` module.  Two key functions are the `cross_validation` and `performance_metrics` functions.\n",
    "\n",
    "```python\n",
    "from prophet.diagnostics import cross_validation, performance_metrics\n",
    "```\n",
    "\n",
    "Prophet uses a rolling origin forecast type procedure for cross validation (but rather than working forwards Prophet works backwards from the final fold).  The `cross_validation` function requires some parameters to be **time delta** compatable.  This means that we need to pass in a `str` such as `\"7 days\"`\n",
    "\n",
    "To use the `cross_validation` function with your model to do a CV where the initial length of the training set is 1095 days (3 years), the step size (period) is 28 days and the forecast horizon is 84 days we would use the following code:\n",
    "\n",
    "```python\n",
    "df_cv = cross_validation(model=model, initial='1095 days', period='28 days', \n",
    "                         horizon='84 days')\n",
    "```\n",
    "\n",
    "The variable `df_cv` is of type `pandas.DataFrame`.  It contains all of the predictions and actual values by date and cut off.  In our example above the first row will be day 366; the next 83 rows will be all part of the same cross-validation fold.  See below for example, note that all the select rows (0, 1 and 83) have the same **cut-off** - this the **forecast origin** of the cross validation fold.\n",
    "\n",
    "```python\n",
    "df_cv.iloc[[0, 1, 83]\n",
    "```\n",
    "\n",
    "|    | ds                  |    yhat |   yhat_lower |   yhat_upper |   y | cutoff              |\n",
    "|---:|:--------------------|--------:|-------------:|-------------:|----:|:--------------------|\n",
    "|  0 | 2017-04-09 00:00:00 | 215.292 |      180.674 |      249.161 | 241 | 2017-04-08 00:00:00 |\n",
    "|  1 | 2017-04-10 00:00:00 | 222.806 |      187.367 |      255.534 | 259 | 2017-04-08 00:00:00 |\n",
    "| 83 | 2017-07-01 00:00:00 | 234.83  |      200.091 |      270.619 | 221 | 2017-04-08 00:00:00 |\n",
    "\n",
    "\n",
    "If we then look at rows 84 and 85 we see that the cutoff (forecast origin) has rolled forward.  It is equal to the previous cut-off + 28 days (period in prophet terminology).\n",
    "\n",
    "```python\n",
    "df_cv.iloc[[84, 85]\n",
    "```\n",
    "\n",
    "|    | ds                  |    yhat |   yhat_lower |   yhat_upper |   y | cutoff              |\n",
    "|---:|:--------------------|--------:|-------------:|-------------:|----:|:--------------------|\n",
    "| 84 | 2017-05-07 00:00:00 | 226.971 |      192.175 |      260.083 | 217 | 2017-05-06 00:00:00 |\n",
    "| 85 | 2017-05-08 00:00:00 | 234.145 |      198.177 |      269.963 | 213 | 2017-05-06 00:00:00 |\n",
    "\n",
    "\n",
    "So in essence `df_cv` is a record of all of the cross-validation folds stacked on top of each other.  This is useful, because it means have all of the data to calculate any forecast error measure we would like for over any sub-forecast horizon.  Prophet provides the function `performance_metrics` and the plotting function `fbprophet.plot.plot_cross_validation_metric` to automate this for you.  For example:\n",
    "\n",
    "**Note: mdape is median absolute percentage error**\n",
    "\n",
    "```python\n",
    "df_p = performance_metrics(df_cv)\n",
    "df_p.head()\n",
    "```\n",
    "|    | horizon          |     mse |    rmse |     mae |      mape |     mdape |   coverage |\n",
    "|---:|:-----------------|--------:|--------:|--------:|----------:|----------:|-----------:|\n",
    "|  0 | 9 days 00:00:00  | 387.234 | 19.6783 | 15.6597 | 0.0798998 | 0.0632103 |   0.91453  |\n",
    "|  1 | 10 days 00:00:00 | 355.57  | 18.8566 | 14.9167 | 0.0775167 | 0.0632103 |   0.931013 |\n",
    "|  2 | 11 days 00:00:00 | 317.469 | 17.8176 | 13.8917 | 0.0726941 | 0.0535132 |   0.945665 |\n",
    "|  3 | 12 days 00:00:00 | 311.386 | 17.6461 | 13.8011 | 0.0719934 | 0.0535132 |   0.954212 |\n",
    "|  4 | 13 days 00:00:00 | 321.142 | 17.9204 | 13.908  | 0.0719082 | 0.0575246 |   0.948718 |\n",
    "\n",
    "---\n",
    "**Task:**\n",
    "* Run Prophet's built in cross validation\n",
    "* Use an initial training period of 1095 days, period=28 and horizon of '84 days'\n",
    "* Use Prophet's built in `cross_validation` and `performance_metrics` functions\n"
   ]
  },
  {
   "cell_type": "code",
   "execution_count": null,
   "metadata": {},
   "outputs": [],
   "source": [
    "# your code here..."
   ]
  },
  {
   "cell_type": "code",
   "execution_count": null,
   "metadata": {},
   "outputs": [],
   "source": [
    "# example answer...\n",
    "from prophet.diagnostics import cross_validation, performance_metrics\n",
    "from prophet.plot import plot_cross_validation_metric"
   ]
  },
  {
   "cell_type": "code",
   "execution_count": null,
   "metadata": {},
   "outputs": [],
   "source": [
    "df_cv = cross_validation(model, initial='1095 days', period='28 days', horizon='84 days')"
   ]
  },
  {
   "cell_type": "code",
   "execution_count": null,
   "metadata": {},
   "outputs": [],
   "source": [
    "#rolling window = 0 means that we get an average for each horizon\n",
    "#rolling window = 1 means that we only get the 84 day horizon\n",
    "#rolling window between 0 and 1 varies the percentage of points in each horizon.\n",
    "df_p = performance_metrics(df_cv, rolling_window=1)\n",
    "df_p"
   ]
  },
  {
   "cell_type": "code",
   "execution_count": null,
   "metadata": {},
   "outputs": [],
   "source": [
    "fig = plot_cross_validation_metric(df_cv, metric='rmse', rolling_window=0.1)"
   ]
  },
  {
   "cell_type": "markdown",
   "metadata": {},
   "source": [
    "# Exercise 7: Is Prophet better than ARIMA?\n",
    "\n",
    "**Task:**\n",
    "* Choose and fit an ARIMA model to the dataset.\n",
    "* Use cross-validation of the 84 day MAE compare the performance of ARIMA and Prophet.\n",
    "\n",
    "**Questions**\n",
    "* Which of the two methods would you choose in practice? \n",
    "* What else might you do?\n",
    "\n",
    "**Hints**:\n",
    "* See Introduction to ARIMA notebook for a reminder about how to use ARIMA models in Python\n",
    "* This is daily level data.  For ARIMA this is `m=7`\n",
    "* Remember that Prophet and ARIMA use data in different formats. \n",
    "* It might take a few minutes for `auto_arima` to return results.  Once it has write down the order of the model so that you can easily recreate it with a `ARIMA` object.\n",
    "* It will also take a few minutes for ARIMA cross validation to run.\n",
    "* If you get a convergence warning when fitting `ARIMA` to your chosen model then try passing the parameter `maxiter=100` (or more) to the `ARIMA` constructor method."
   ]
  },
  {
   "cell_type": "code",
   "execution_count": null,
   "metadata": {},
   "outputs": [],
   "source": [
    "#your code here"
   ]
  },
  {
   "cell_type": "code",
   "execution_count": null,
   "metadata": {},
   "outputs": [],
   "source": [
    "# arima_model = auto_arima(y_train, m=7, suppress_warnings=True)\n",
    "\n",
    "# model returned = SARIMAX(1, 1, 2)x(1, 0, [1], 7)\n",
    "arima_model = ARIMA(order=(1, 1, 2), seasonal_order=(1, 0, 1, 7), maxiter=100)\n",
    "arima_model.fit(y_train)\n",
    "arima_model.summary()"
   ]
  },
  {
   "cell_type": "code",
   "execution_count": null,
   "metadata": {},
   "outputs": [],
   "source": [
    "# cross validation\n",
    "\n",
    "from pmdarima.model_selection import RollingForecastCV, cross_val_score"
   ]
  },
  {
   "cell_type": "code",
   "execution_count": null,
   "metadata": {},
   "outputs": [],
   "source": [
    "# cv of 84 day forecast\n",
    "cv = RollingForecastCV(h=84, step=28, initial=1095)\n",
    "scores1 = cross_val_score(arima_model, y_train, cv=cv, verbose=0, \n",
    "                              scoring='mean_absolute_error')"
   ]
  },
  {
   "cell_type": "code",
   "execution_count": null,
   "metadata": {},
   "outputs": [],
   "source": [
    "# Prophet 84 day was ~19\n",
    "scores1.mean()"
   ]
  },
  {
   "cell_type": "code",
   "execution_count": null,
   "metadata": {},
   "outputs": [],
   "source": [
    "# naive model?"
   ]
  },
  {
   "cell_type": "code",
   "execution_count": null,
   "metadata": {},
   "outputs": [],
   "source": [
    "# selects ensemble naive and produces similar performance to ARIMA \n",
    "# (although we haven't checked prediction interval coverage)\n",
    "naive_results = auto_naive(y_train, horizon=84, min_train_size=1095,\n",
    "                           seasonal_period=7, step=28, method='ro')\n",
    "naive_results"
   ]
  }
 ],
 "metadata": {
  "kernelspec": {
   "display_name": "Python 3 (ipykernel)",
   "language": "python",
   "name": "python3"
  },
  "language_info": {
   "codemirror_mode": {
    "name": "ipython",
    "version": 3
   },
   "file_extension": ".py",
   "mimetype": "text/x-python",
   "name": "python",
   "nbconvert_exporter": "python",
   "pygments_lexer": "ipython3",
   "version": "3.8.8"
  }
 },
 "nbformat": 4,
 "nbformat_minor": 4
}
