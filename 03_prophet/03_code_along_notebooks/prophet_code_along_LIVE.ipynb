{
 "cells": [
  {
   "cell_type": "markdown",
   "metadata": {},
   "source": [
    "# HSMA Introduction to Prophet\n",
    "## Code along lecture 2: Creating a basic Prophet model\n",
    "\n",
    "**In this code along lecture you will learn:**\n",
    "* How to fit a `Prophet` model to a time series\n",
    "* How to obtain a point forecast and prediction intervals using `Prophet`\n",
    "* How to plot the model forecasts and components\n",
    "---"
   ]
  },
  {
   "cell_type": "markdown",
   "metadata": {},
   "source": [
    "# Standard imports"
   ]
  },
  {
   "cell_type": "code",
   "execution_count": null,
   "metadata": {},
   "outputs": [],
   "source": [
    "import numpy as np\n",
    "import pandas as pd\n",
    "import matplotlib.pyplot as plt"
   ]
  },
  {
   "cell_type": "markdown",
   "metadata": {},
   "source": [
    "# FBProphet Imports"
   ]
  },
  {
   "cell_type": "code",
   "execution_count": null,
   "metadata": {},
   "outputs": [],
   "source": [
    "import prophet\n",
    "\n",
    "from prophet import Prophet\n",
    "from prophet.plot import (plot_plotly, plot_components_plotly,\n",
    "                          add_changepoints_to_plot)\n",
    "\n",
    "# should be version 1.0+\n",
    "prophet.__version__"
   ]
  },
  {
   "cell_type": "markdown",
   "metadata": {},
   "source": [
    "# Utility functions"
   ]
  },
  {
   "cell_type": "code",
   "execution_count": null,
   "metadata": {},
   "outputs": [],
   "source": [
    "def prophet_training_data(y_train):\n",
    "    '''\n",
    "    Converts a standard pandas datetimeindexed dataframe\n",
    "    for time series into one suitable for Prophet\n",
    "    Parameters:\n",
    "    ---------\n",
    "    y_train: pd.DataFrame\n",
    "        univariate time series data\n",
    "        \n",
    "    Returns:\n",
    "    --------\n",
    "        pd.DataFrame in Prophet format \n",
    "        columns = ['ds', 'y']\n",
    "    '''\n",
    "    prophet_train = pd.DataFrame(y_train.index)\n",
    "    prophet_train['y'] = y_train.to_numpy()\n",
    "    prophet_train.columns = ['ds', 'y']\n",
    "\n",
    "    return prophet_train"
   ]
  },
  {
   "cell_type": "markdown",
   "metadata": {},
   "source": [
    "# **Step 1**: Load and preprocess data"
   ]
  },
  {
   "cell_type": "code",
   "execution_count": null,
   "metadata": {},
   "outputs": [],
   "source": [
    "url = 'https://raw.githubusercontent.com/health-data-science-OR/' \\\n",
    "        + 'hpdm097-datasets/master/resp_admits_day.csv'\n",
    "y_train = pd.read_csv(url, parse_dates=True, dayfirst=True, index_col='date')\n",
    "y_train.index.freq = 'D'\n",
    "\n",
    "prophet_train = prophet_training_data(y_train)\n",
    "prophet_train.tail()\n"
   ]
  },
  {
   "cell_type": "markdown",
   "metadata": {},
   "source": [
    "# **Step 2**: Fit a basic Prophet model\n",
    "\n",
    "Fitting a basic Prophet model is relatively straightforward.  We need to create a `Prophet` object\n",
    "\n",
    "```python\n",
    "model = Prophet()\n",
    "```\n",
    "Unlike our naive forecasting where we specified the prediction interval width at prediction time, with Prophet we need to specify the interval width as we create the model.  We do this using the parameter `interval_width`.  By default this produces a 80\\% prediction interval.  Note we specify a $1-\\alpha$ interval width (unlike in our naive models where we specified $\\alpha$)\n",
    "\n",
    "```python\n",
    "model = Prophet(interval_width=0.95)\n",
    "```\n",
    "\n",
    "and call `.fit()` passing in the training data.\n",
    "\n",
    "```python\n",
    "model.fit(y_train)\n",
    "```\n",
    "\n",
    "> You might find that Prophet warns you that it has disabled **daily seasonality**.  This is slightly confusing terminology.  What it means is that it is not fitting intra-day, e.g. hourly, seasonality."
   ]
  },
  {
   "cell_type": "code",
   "execution_count": null,
   "metadata": {},
   "outputs": [],
   "source": [
    "# fit a basic prophet model with 0.95 PIs"
   ]
  },
  {
   "cell_type": "markdown",
   "metadata": {},
   "source": [
    "# **Step 3**: Forecasting\n",
    "\n",
    "There are two steps to making a forecast with a fitted `Prophet` model.  You must first create a **future dataframe**.  This is a `pd.DataFrame` with a single column 'ds' that runs from the start of the training period until the end of the training period + a horizon.  Prophet makes this easy by including a `make_future_dataframe()` method.\n",
    "\n",
    "```python\n",
    "future = model.make_future_dataframe(periods=28)\n",
    "```\n",
    "\n",
    "Once we have the future dataframe we can pass that to the predict method.\n",
    "\n",
    "```python\n",
    "prophet_forecast = model.predict(future)\n",
    "```\n",
    "\n",
    "This returns a `pd.DataFrame` that contains both the in-sample fitted values and the out of sample forecasts. It contains all of the components of the fitted model. For example the last 5 rows of a forecast are:"
   ]
  },
  {
   "cell_type": "code",
   "execution_count": null,
   "metadata": {},
   "outputs": [],
   "source": [
    "# make future data frame\n"
   ]
  },
  {
   "cell_type": "code",
   "execution_count": null,
   "metadata": {},
   "outputs": [],
   "source": [
    "# predict\n"
   ]
  },
  {
   "cell_type": "markdown",
   "metadata": {},
   "source": [
    "# **Step 4**: Plot the fitted values and the forecast"
   ]
  },
  {
   "cell_type": "code",
   "execution_count": null,
   "metadata": {},
   "outputs": [],
   "source": [
    "model.plot(prophet_forecast);"
   ]
  },
  {
   "cell_type": "markdown",
   "metadata": {},
   "source": [
    "## Side bar: using plotly for interactive \n",
    "\n",
    "> This works in Colab and Juypter Notebooks.  there may be some issues in Jupyter-Lab.  i.e. it doesn't show up."
   ]
  },
  {
   "cell_type": "code",
   "execution_count": null,
   "metadata": {},
   "outputs": [],
   "source": [
    "plot_plotly(model, prophet_forecast)"
   ]
  },
  {
   "cell_type": "markdown",
   "metadata": {},
   "source": [
    "# **Step 5:** Plotting Prophet's components"
   ]
  },
  {
   "cell_type": "code",
   "execution_count": null,
   "metadata": {},
   "outputs": [],
   "source": [
    "ax = model.plot_components(prophet_forecast)"
   ]
  },
  {
   "cell_type": "markdown",
   "metadata": {},
   "source": [
    "## Plotly side bar..."
   ]
  },
  {
   "cell_type": "code",
   "execution_count": null,
   "metadata": {},
   "outputs": [],
   "source": [
    "plot_components_plotly(model, prophet_forecast)"
   ]
  }
 ],
 "metadata": {
  "kernelspec": {
   "display_name": "Python 3 (ipykernel)",
   "language": "python",
   "name": "python3"
  },
  "language_info": {
   "codemirror_mode": {
    "name": "ipython",
    "version": 3
   },
   "file_extension": ".py",
   "mimetype": "text/x-python",
   "name": "python",
   "nbconvert_exporter": "python",
   "pygments_lexer": "ipython3",
   "version": "3.8.8"
  }
 },
 "nbformat": 4,
 "nbformat_minor": 4
}
