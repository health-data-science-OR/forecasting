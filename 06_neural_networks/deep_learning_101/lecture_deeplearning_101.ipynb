{
 "cells": [
  {
   "cell_type": "markdown",
   "metadata": {},
   "source": [
    "# Deep Learning 101\n",
    "\n",
    "<div class=\"alert alert-success\">\n",
    "This lecture takes a practical approach to introduce modern deep learning approaches.  It provides foundational deep learning knowledge in order for you to move onto time series forecasting.\n",
    "</div>\n",
    "\n",
    "**By the end of this lecture you will have:**\n",
    "    \n",
    "* Developed a conceptual understanding of modern deep neural networks.\n",
    "* Built intuition about what hidden layers within a deep network are doing and how they aid prediction.\n",
    "* Understand the definition and benefits of mini batches of training data\n",
    "* Built intuition about how networks 'learn' using the backpropogation algorithm and stochastic gradient descent.\n",
    "* Learnt how to build simple neural network architectures in Keras and Tensorflow 2.0\n",
    "* The foundational knowledge to move onto using feedforward neural networks for time series forecasting."
   ]
  },
  {
   "cell_type": "markdown",
   "metadata": {},
   "source": [
    "# Standard Imports"
   ]
  },
  {
   "cell_type": "code",
   "execution_count": 1,
   "metadata": {},
   "outputs": [],
   "source": [
    "import numpy as np\n",
    "import pandas as pd\n",
    "import matplotlib.pyplot as plt"
   ]
  },
  {
   "cell_type": "markdown",
   "metadata": {},
   "source": [
    "# Keras and Tensorflow Imports\n",
    "\n",
    "For your deep learning you will make use of [Keras](https://keras.io/).  This is a python library that sits on top of Google's deep learning toolset: Tensorflow 2.0.  Keras makes deep learning relatively straightfoward because it hides a lot of the complexity of Tensorflow. \n",
    "\n",
    "> Another very powerful deep learning framework is [PyTorch](https://pytorch.org/).  This is a pythonic deep learning toolkit and is also very powerful.  Our research experience is that PyTorch is more efficient than Keras and Tensorflow (sometimes by a considerable margin), but that it requires more code to do the same things as Keras.  Another way to look at this is that Keras comes with 'more bells and whistles' than PyTorch and for learning that comes in very handy!  The exercises that you will tackle in this course are written in Keras/TF, but you will also have access to optional material written in PyTorch."
   ]
  },
  {
   "cell_type": "code",
   "execution_count": 2,
   "metadata": {},
   "outputs": [
    {
     "name": "stderr",
     "output_type": "stream",
     "text": [
      "2021-12-08 14:21:00.059766: W tensorflow/stream_executor/platform/default/dso_loader.cc:64] Could not load dynamic library 'libcudart.so.11.0'; dlerror: libcudart.so.11.0: cannot open shared object file: No such file or directory\n",
      "2021-12-08 14:21:00.059783: I tensorflow/stream_executor/cuda/cudart_stub.cc:29] Ignore above cudart dlerror if you do not have a GPU set up on your machine.\n"
     ]
    },
    {
     "name": "stdout",
     "output_type": "stream",
     "text": [
      "2.7.0\n"
     ]
    }
   ],
   "source": [
    "import tensorflow as tf\n",
    "from tensorflow import keras\n",
    "\n",
    "# if using hds_forecast this should be version 2.7\n",
    "print(tf.__version__)"
   ]
  },
  {
   "cell_type": "markdown",
   "metadata": {},
   "source": [
    "# Computational cost of deep learning\n",
    "\n",
    "When you have a complex deep learning architecture (which isn't always the case) and lots of data you should expect it to be more computationally expensive (take longer to run and work your CPU hard) than other types of ML.  In these instances, you really need a powerful machine and for some models a GPU.  For **time series forecasting**, we will be using the OpenStack on the High Performance Cluster, but for personal learning and coursework you can also make use of Google Colaboratory (Jupyter in the cloud).  Google also provide a GPU.  All of the neural network notebooks in this course are runnable in Google Colab. "
   ]
  },
  {
   "cell_type": "markdown",
   "metadata": {},
   "source": [
    "# A first look at Deep Learning using Tensorflow Playground"
   ]
  },
  {
   "cell_type": "markdown",
   "metadata": {},
   "source": [
    "[Tensorflow playground](https://playground.tensorflow.org/#activation=tanh&batchSize=10&dataset=circle&regDataset=reg-plane&learningRate=0.03&regularizationRate=0&noise=0&networkShape=4,2&seed=0.55467&showTestData=false&discretize=false&percTrainData=50&x=true&y=true&xTimesY=false&xSquared=false&ySquared=false&cosX=false&sinX=false&cosY=false&sinY=false&collectStats=false&problem=classification&initZero=false&hideText=false) is provided by Google.  I recommend that you spend some time using it as it helps build intuition about how deep learning works."
   ]
  },
  {
   "cell_type": "markdown",
   "metadata": {},
   "source": [
    "# Components needed for deep learning.\n",
    "\n",
    "## 1. Training and test data\n",
    "\n",
    "The data for this lecture is a real dataset known as the [Wisconsin Breast Cancer](https://archive.ics.uci.edu/ml/datasets/Breast+Cancer+Wisconsin+(Diagnostic)) dataset. The data set consists of individual   we will use a **Feedforward Neural Network Architecture.**\n",
    "\n",
    "The data are published and open; feel free to take a look at them in more detail.\n",
    "\n",
    "> The dataset contains 30 features and a binary label (benign/malignant)"
   ]
  },
  {
   "cell_type": "code",
   "execution_count": 3,
   "metadata": {},
   "outputs": [],
   "source": [
    "url = 'https://raw.githubusercontent.com/MichaelAllen1966/' \\\n",
    "       + 'synthetic_data_pilot/main/01_wisconsin/wisconsin.csv'\n",
    "cancer = pd.read_csv(url)"
   ]
  },
  {
   "cell_type": "code",
   "execution_count": 4,
   "metadata": {},
   "outputs": [],
   "source": [
    "# Load data and drop 'id' column\n",
    "cancer.drop('id', axis=1, inplace=True)\n",
    "\n",
    "# Change 'diagnosis' column to 'malignant', and put in last column place\n",
    "cancer['malignant'] = cancer['diagnosis'] == 'M'\n",
    "cancer.drop('diagnosis', axis=1, inplace=True)"
   ]
  },
  {
   "cell_type": "code",
   "execution_count": 5,
   "metadata": {},
   "outputs": [
    {
     "data": {
      "text/plain": [
       "(569, 31)"
      ]
     },
     "execution_count": 5,
     "metadata": {},
     "output_type": "execute_result"
    }
   ],
   "source": [
    "# 30 features and a single binary (0/1) label\n",
    "cancer.shape"
   ]
  },
  {
   "cell_type": "code",
   "execution_count": 6,
   "metadata": {},
   "outputs": [
    {
     "data": {
      "text/html": [
       "<div>\n",
       "<style scoped>\n",
       "    .dataframe tbody tr th:only-of-type {\n",
       "        vertical-align: middle;\n",
       "    }\n",
       "\n",
       "    .dataframe tbody tr th {\n",
       "        vertical-align: top;\n",
       "    }\n",
       "\n",
       "    .dataframe thead th {\n",
       "        text-align: right;\n",
       "    }\n",
       "</style>\n",
       "<table border=\"1\" class=\"dataframe\">\n",
       "  <thead>\n",
       "    <tr style=\"text-align: right;\">\n",
       "      <th></th>\n",
       "      <th>radius_mean</th>\n",
       "      <th>texture_mean</th>\n",
       "      <th>perimeter_mean</th>\n",
       "      <th>area_mean</th>\n",
       "      <th>smoothness_mean</th>\n",
       "      <th>compactness_mean</th>\n",
       "      <th>concavity_mean</th>\n",
       "      <th>concave points_mean</th>\n",
       "      <th>symmetry_mean</th>\n",
       "      <th>fractal_dimension_mean</th>\n",
       "      <th>...</th>\n",
       "      <th>texture_worst</th>\n",
       "      <th>perimeter_worst</th>\n",
       "      <th>area_worst</th>\n",
       "      <th>smoothness_worst</th>\n",
       "      <th>compactness_worst</th>\n",
       "      <th>concavity_worst</th>\n",
       "      <th>concave points_worst</th>\n",
       "      <th>symmetry_worst</th>\n",
       "      <th>fractal_dimension_worst</th>\n",
       "      <th>malignant</th>\n",
       "    </tr>\n",
       "  </thead>\n",
       "  <tbody>\n",
       "    <tr>\n",
       "      <th>0</th>\n",
       "      <td>17.99</td>\n",
       "      <td>10.38</td>\n",
       "      <td>122.80</td>\n",
       "      <td>1001.0</td>\n",
       "      <td>0.11840</td>\n",
       "      <td>0.27760</td>\n",
       "      <td>0.3001</td>\n",
       "      <td>0.14710</td>\n",
       "      <td>0.2419</td>\n",
       "      <td>0.07871</td>\n",
       "      <td>...</td>\n",
       "      <td>17.33</td>\n",
       "      <td>184.60</td>\n",
       "      <td>2019.0</td>\n",
       "      <td>0.1622</td>\n",
       "      <td>0.6656</td>\n",
       "      <td>0.7119</td>\n",
       "      <td>0.2654</td>\n",
       "      <td>0.4601</td>\n",
       "      <td>0.11890</td>\n",
       "      <td>True</td>\n",
       "    </tr>\n",
       "    <tr>\n",
       "      <th>1</th>\n",
       "      <td>20.57</td>\n",
       "      <td>17.77</td>\n",
       "      <td>132.90</td>\n",
       "      <td>1326.0</td>\n",
       "      <td>0.08474</td>\n",
       "      <td>0.07864</td>\n",
       "      <td>0.0869</td>\n",
       "      <td>0.07017</td>\n",
       "      <td>0.1812</td>\n",
       "      <td>0.05667</td>\n",
       "      <td>...</td>\n",
       "      <td>23.41</td>\n",
       "      <td>158.80</td>\n",
       "      <td>1956.0</td>\n",
       "      <td>0.1238</td>\n",
       "      <td>0.1866</td>\n",
       "      <td>0.2416</td>\n",
       "      <td>0.1860</td>\n",
       "      <td>0.2750</td>\n",
       "      <td>0.08902</td>\n",
       "      <td>True</td>\n",
       "    </tr>\n",
       "    <tr>\n",
       "      <th>2</th>\n",
       "      <td>19.69</td>\n",
       "      <td>21.25</td>\n",
       "      <td>130.00</td>\n",
       "      <td>1203.0</td>\n",
       "      <td>0.10960</td>\n",
       "      <td>0.15990</td>\n",
       "      <td>0.1974</td>\n",
       "      <td>0.12790</td>\n",
       "      <td>0.2069</td>\n",
       "      <td>0.05999</td>\n",
       "      <td>...</td>\n",
       "      <td>25.53</td>\n",
       "      <td>152.50</td>\n",
       "      <td>1709.0</td>\n",
       "      <td>0.1444</td>\n",
       "      <td>0.4245</td>\n",
       "      <td>0.4504</td>\n",
       "      <td>0.2430</td>\n",
       "      <td>0.3613</td>\n",
       "      <td>0.08758</td>\n",
       "      <td>True</td>\n",
       "    </tr>\n",
       "    <tr>\n",
       "      <th>3</th>\n",
       "      <td>11.42</td>\n",
       "      <td>20.38</td>\n",
       "      <td>77.58</td>\n",
       "      <td>386.1</td>\n",
       "      <td>0.14250</td>\n",
       "      <td>0.28390</td>\n",
       "      <td>0.2414</td>\n",
       "      <td>0.10520</td>\n",
       "      <td>0.2597</td>\n",
       "      <td>0.09744</td>\n",
       "      <td>...</td>\n",
       "      <td>26.50</td>\n",
       "      <td>98.87</td>\n",
       "      <td>567.7</td>\n",
       "      <td>0.2098</td>\n",
       "      <td>0.8663</td>\n",
       "      <td>0.6869</td>\n",
       "      <td>0.2575</td>\n",
       "      <td>0.6638</td>\n",
       "      <td>0.17300</td>\n",
       "      <td>True</td>\n",
       "    </tr>\n",
       "    <tr>\n",
       "      <th>4</th>\n",
       "      <td>20.29</td>\n",
       "      <td>14.34</td>\n",
       "      <td>135.10</td>\n",
       "      <td>1297.0</td>\n",
       "      <td>0.10030</td>\n",
       "      <td>0.13280</td>\n",
       "      <td>0.1980</td>\n",
       "      <td>0.10430</td>\n",
       "      <td>0.1809</td>\n",
       "      <td>0.05883</td>\n",
       "      <td>...</td>\n",
       "      <td>16.67</td>\n",
       "      <td>152.20</td>\n",
       "      <td>1575.0</td>\n",
       "      <td>0.1374</td>\n",
       "      <td>0.2050</td>\n",
       "      <td>0.4000</td>\n",
       "      <td>0.1625</td>\n",
       "      <td>0.2364</td>\n",
       "      <td>0.07678</td>\n",
       "      <td>True</td>\n",
       "    </tr>\n",
       "  </tbody>\n",
       "</table>\n",
       "<p>5 rows × 31 columns</p>\n",
       "</div>"
      ],
      "text/plain": [
       "   radius_mean  texture_mean  perimeter_mean  area_mean  smoothness_mean  \\\n",
       "0        17.99         10.38          122.80     1001.0          0.11840   \n",
       "1        20.57         17.77          132.90     1326.0          0.08474   \n",
       "2        19.69         21.25          130.00     1203.0          0.10960   \n",
       "3        11.42         20.38           77.58      386.1          0.14250   \n",
       "4        20.29         14.34          135.10     1297.0          0.10030   \n",
       "\n",
       "   compactness_mean  concavity_mean  concave points_mean  symmetry_mean  \\\n",
       "0           0.27760          0.3001              0.14710         0.2419   \n",
       "1           0.07864          0.0869              0.07017         0.1812   \n",
       "2           0.15990          0.1974              0.12790         0.2069   \n",
       "3           0.28390          0.2414              0.10520         0.2597   \n",
       "4           0.13280          0.1980              0.10430         0.1809   \n",
       "\n",
       "   fractal_dimension_mean  ...  texture_worst  perimeter_worst  area_worst  \\\n",
       "0                 0.07871  ...          17.33           184.60      2019.0   \n",
       "1                 0.05667  ...          23.41           158.80      1956.0   \n",
       "2                 0.05999  ...          25.53           152.50      1709.0   \n",
       "3                 0.09744  ...          26.50            98.87       567.7   \n",
       "4                 0.05883  ...          16.67           152.20      1575.0   \n",
       "\n",
       "   smoothness_worst  compactness_worst  concavity_worst  concave points_worst  \\\n",
       "0            0.1622             0.6656           0.7119                0.2654   \n",
       "1            0.1238             0.1866           0.2416                0.1860   \n",
       "2            0.1444             0.4245           0.4504                0.2430   \n",
       "3            0.2098             0.8663           0.6869                0.2575   \n",
       "4            0.1374             0.2050           0.4000                0.1625   \n",
       "\n",
       "   symmetry_worst  fractal_dimension_worst  malignant  \n",
       "0          0.4601                  0.11890       True  \n",
       "1          0.2750                  0.08902       True  \n",
       "2          0.3613                  0.08758       True  \n",
       "3          0.6638                  0.17300       True  \n",
       "4          0.2364                  0.07678       True  \n",
       "\n",
       "[5 rows x 31 columns]"
      ]
     },
     "execution_count": 6,
     "metadata": {},
     "output_type": "execute_result"
    }
   ],
   "source": [
    "cancer.head()"
   ]
  },
  {
   "cell_type": "markdown",
   "metadata": {},
   "source": [
    "# Train-Test Split\n",
    "\n",
    "Just like other Machine Learning approaches we first do a train test split (and do not look at or use our test data until we are ready!)."
   ]
  },
  {
   "cell_type": "code",
   "execution_count": 7,
   "metadata": {},
   "outputs": [],
   "source": [
    "from sklearn.model_selection import train_test_split"
   ]
  },
  {
   "cell_type": "code",
   "execution_count": 8,
   "metadata": {},
   "outputs": [],
   "source": [
    "# split into x and y for split\n",
    "X = cancer[cancer.columns[:-1]]\n",
    "y = cancer['malignant']"
   ]
  },
  {
   "cell_type": "code",
   "execution_count": 9,
   "metadata": {},
   "outputs": [],
   "source": [
    "# setting random_state means we always get the same split\n",
    "X_train, X_test, y_train, y_test \\\n",
    "    = train_test_split(X.to_numpy(), y.to_numpy(), \n",
    "                       test_size=0.20, \n",
    "                       random_state=42)"
   ]
  },
  {
   "cell_type": "code",
   "execution_count": 10,
   "metadata": {},
   "outputs": [
    {
     "name": "stdout",
     "output_type": "stream",
     "text": [
      "(455, 30)\n",
      "(114, 30)\n"
     ]
    }
   ],
   "source": [
    "print(X_train.shape)\n",
    "print(X_test.shape)"
   ]
  },
  {
   "cell_type": "code",
   "execution_count": 11,
   "metadata": {},
   "outputs": [
    {
     "name": "stdout",
     "output_type": "stream",
     "text": [
      "[False  True] [286 169]\n",
      "0.37142857142857144\n"
     ]
    }
   ],
   "source": [
    "# class balance\n",
    "unique_elements, counts_elements = np.unique(y_train, return_counts=True)\n",
    "print(unique_elements, counts_elements)\n",
    "print(y_train.mean())"
   ]
  },
  {
   "cell_type": "markdown",
   "metadata": {},
   "source": [
    "# Rescale data\n",
    "\n",
    "You should always rescale the features that you use to train a neural network.\n",
    "\n",
    "I recommend scaling **after** a train-test split where the scaler uses the **training** data.  In a production setting you cannot scale on the data you are about to predict!  You should aim to simulate this setting and avoid leakage!\n",
    "\n",
    "Here we will use [MinMaxScaler](https://scikit-learn.org/stable/modules/generated/sklearn.preprocessing.MinMaxScaler.html) to rescale features to range from 0 to 1."
   ]
  },
  {
   "cell_type": "code",
   "execution_count": 12,
   "metadata": {},
   "outputs": [],
   "source": [
    "# we will rescale all data to be between 0 and 1\n",
    "from sklearn.preprocessing import MinMaxScaler"
   ]
  },
  {
   "cell_type": "code",
   "execution_count": 13,
   "metadata": {},
   "outputs": [
    {
     "name": "stdout",
     "output_type": "stream",
     "text": [
      "(455, 30)\n"
     ]
    },
    {
     "data": {
      "text/html": [
       "<div>\n",
       "<style scoped>\n",
       "    .dataframe tbody tr th:only-of-type {\n",
       "        vertical-align: middle;\n",
       "    }\n",
       "\n",
       "    .dataframe tbody tr th {\n",
       "        vertical-align: top;\n",
       "    }\n",
       "\n",
       "    .dataframe thead th {\n",
       "        text-align: right;\n",
       "    }\n",
       "</style>\n",
       "<table border=\"1\" class=\"dataframe\">\n",
       "  <thead>\n",
       "    <tr style=\"text-align: right;\">\n",
       "      <th></th>\n",
       "      <th>radius_mean</th>\n",
       "      <th>texture_mean</th>\n",
       "      <th>perimeter_mean</th>\n",
       "      <th>area_mean</th>\n",
       "      <th>smoothness_mean</th>\n",
       "      <th>compactness_mean</th>\n",
       "      <th>concavity_mean</th>\n",
       "      <th>concave points_mean</th>\n",
       "      <th>symmetry_mean</th>\n",
       "      <th>fractal_dimension_mean</th>\n",
       "      <th>...</th>\n",
       "      <th>radius_worst</th>\n",
       "      <th>texture_worst</th>\n",
       "      <th>perimeter_worst</th>\n",
       "      <th>area_worst</th>\n",
       "      <th>smoothness_worst</th>\n",
       "      <th>compactness_worst</th>\n",
       "      <th>concavity_worst</th>\n",
       "      <th>concave points_worst</th>\n",
       "      <th>symmetry_worst</th>\n",
       "      <th>fractal_dimension_worst</th>\n",
       "    </tr>\n",
       "  </thead>\n",
       "  <tbody>\n",
       "    <tr>\n",
       "      <th>0</th>\n",
       "      <td>0.065527</td>\n",
       "      <td>0.257694</td>\n",
       "      <td>0.077323</td>\n",
       "      <td>0.034369</td>\n",
       "      <td>0.487226</td>\n",
       "      <td>0.417506</td>\n",
       "      <td>0.733365</td>\n",
       "      <td>0.217445</td>\n",
       "      <td>0.504004</td>\n",
       "      <td>0.642376</td>\n",
       "      <td>...</td>\n",
       "      <td>0.059645</td>\n",
       "      <td>0.283316</td>\n",
       "      <td>0.055971</td>\n",
       "      <td>0.025084</td>\n",
       "      <td>0.523195</td>\n",
       "      <td>0.449380</td>\n",
       "      <td>1.000000</td>\n",
       "      <td>0.601375</td>\n",
       "      <td>0.524936</td>\n",
       "      <td>0.529502</td>\n",
       "    </tr>\n",
       "    <tr>\n",
       "      <th>1</th>\n",
       "      <td>0.656203</td>\n",
       "      <td>0.570172</td>\n",
       "      <td>0.674207</td>\n",
       "      <td>0.489402</td>\n",
       "      <td>0.554934</td>\n",
       "      <td>0.903431</td>\n",
       "      <td>0.582709</td>\n",
       "      <td>0.743539</td>\n",
       "      <td>0.655633</td>\n",
       "      <td>0.505897</td>\n",
       "      <td>...</td>\n",
       "      <td>0.657920</td>\n",
       "      <td>0.571962</td>\n",
       "      <td>0.620253</td>\n",
       "      <td>0.462832</td>\n",
       "      <td>0.529308</td>\n",
       "      <td>0.802879</td>\n",
       "      <td>0.541534</td>\n",
       "      <td>0.997595</td>\n",
       "      <td>0.499310</td>\n",
       "      <td>0.621906</td>\n",
       "    </tr>\n",
       "    <tr>\n",
       "      <th>2</th>\n",
       "      <td>0.072579</td>\n",
       "      <td>0.140345</td>\n",
       "      <td>0.080239</td>\n",
       "      <td>0.038831</td>\n",
       "      <td>0.221901</td>\n",
       "      <td>0.233306</td>\n",
       "      <td>0.140300</td>\n",
       "      <td>0.108350</td>\n",
       "      <td>0.626802</td>\n",
       "      <td>0.414280</td>\n",
       "      <td>...</td>\n",
       "      <td>0.048681</td>\n",
       "      <td>0.192164</td>\n",
       "      <td>0.056428</td>\n",
       "      <td>0.021462</td>\n",
       "      <td>0.184677</td>\n",
       "      <td>0.154303</td>\n",
       "      <td>0.111581</td>\n",
       "      <td>0.174811</td>\n",
       "      <td>0.338459</td>\n",
       "      <td>0.253137</td>\n",
       "    </tr>\n",
       "    <tr>\n",
       "      <th>3</th>\n",
       "      <td>0.144914</td>\n",
       "      <td>0.524518</td>\n",
       "      <td>0.142908</td>\n",
       "      <td>0.075774</td>\n",
       "      <td>0.396678</td>\n",
       "      <td>0.181357</td>\n",
       "      <td>0.055740</td>\n",
       "      <td>0.080268</td>\n",
       "      <td>0.389749</td>\n",
       "      <td>0.280750</td>\n",
       "      <td>...</td>\n",
       "      <td>0.130546</td>\n",
       "      <td>0.617537</td>\n",
       "      <td>0.119414</td>\n",
       "      <td>0.057587</td>\n",
       "      <td>0.534742</td>\n",
       "      <td>0.123555</td>\n",
       "      <td>0.089856</td>\n",
       "      <td>0.210859</td>\n",
       "      <td>0.363493</td>\n",
       "      <td>0.224059</td>\n",
       "    </tr>\n",
       "    <tr>\n",
       "      <th>4</th>\n",
       "      <td>0.121407</td>\n",
       "      <td>0.174839</td>\n",
       "      <td>0.118296</td>\n",
       "      <td>0.060714</td>\n",
       "      <td>0.548614</td>\n",
       "      <td>0.209677</td>\n",
       "      <td>0.025398</td>\n",
       "      <td>0.064115</td>\n",
       "      <td>0.841431</td>\n",
       "      <td>0.413648</td>\n",
       "      <td>...</td>\n",
       "      <td>0.085593</td>\n",
       "      <td>0.144723</td>\n",
       "      <td>0.078135</td>\n",
       "      <td>0.035977</td>\n",
       "      <td>0.382599</td>\n",
       "      <td>0.078376</td>\n",
       "      <td>0.017316</td>\n",
       "      <td>0.088625</td>\n",
       "      <td>0.392667</td>\n",
       "      <td>0.213293</td>\n",
       "    </tr>\n",
       "  </tbody>\n",
       "</table>\n",
       "<p>5 rows × 30 columns</p>\n",
       "</div>"
      ],
      "text/plain": [
       "   radius_mean  texture_mean  perimeter_mean  area_mean  smoothness_mean  \\\n",
       "0     0.065527      0.257694        0.077323   0.034369         0.487226   \n",
       "1     0.656203      0.570172        0.674207   0.489402         0.554934   \n",
       "2     0.072579      0.140345        0.080239   0.038831         0.221901   \n",
       "3     0.144914      0.524518        0.142908   0.075774         0.396678   \n",
       "4     0.121407      0.174839        0.118296   0.060714         0.548614   \n",
       "\n",
       "   compactness_mean  concavity_mean  concave points_mean  symmetry_mean  \\\n",
       "0          0.417506        0.733365             0.217445       0.504004   \n",
       "1          0.903431        0.582709             0.743539       0.655633   \n",
       "2          0.233306        0.140300             0.108350       0.626802   \n",
       "3          0.181357        0.055740             0.080268       0.389749   \n",
       "4          0.209677        0.025398             0.064115       0.841431   \n",
       "\n",
       "   fractal_dimension_mean  ...  radius_worst  texture_worst  perimeter_worst  \\\n",
       "0                0.642376  ...      0.059645       0.283316         0.055971   \n",
       "1                0.505897  ...      0.657920       0.571962         0.620253   \n",
       "2                0.414280  ...      0.048681       0.192164         0.056428   \n",
       "3                0.280750  ...      0.130546       0.617537         0.119414   \n",
       "4                0.413648  ...      0.085593       0.144723         0.078135   \n",
       "\n",
       "   area_worst  smoothness_worst  compactness_worst  concavity_worst  \\\n",
       "0    0.025084          0.523195           0.449380         1.000000   \n",
       "1    0.462832          0.529308           0.802879         0.541534   \n",
       "2    0.021462          0.184677           0.154303         0.111581   \n",
       "3    0.057587          0.534742           0.123555         0.089856   \n",
       "4    0.035977          0.382599           0.078376         0.017316   \n",
       "\n",
       "   concave points_worst  symmetry_worst  fractal_dimension_worst  \n",
       "0              0.601375        0.524936                 0.529502  \n",
       "1              0.997595        0.499310                 0.621906  \n",
       "2              0.174811        0.338459                 0.253137  \n",
       "3              0.210859        0.363493                 0.224059  \n",
       "4              0.088625        0.392667                 0.213293  \n",
       "\n",
       "[5 rows x 30 columns]"
      ]
     },
     "execution_count": 13,
     "metadata": {},
     "output_type": "execute_result"
    }
   ],
   "source": [
    "# do the rescaling and assign to dataframe\n",
    "scaler = MinMaxScaler(feature_range=(0, 1))\n",
    "scaler.fit(X_train)\n",
    "\n",
    "# scale training data (cast to dataframe)\n",
    "X_train_scaled = pd.DataFrame(scaler.transform(X_train))\n",
    "X_train_scaled.columns = cancer.columns[:-1]\n",
    "\n",
    "# scale test data (cast to dataframe)\n",
    "X_test_scaled = pd.DataFrame(scaler.transform(X_test))\n",
    "X_test_scaled.columns = cancer.columns[:-1]\n",
    "\n",
    "# take a look at the rescaled data\n",
    "print(X_train_scaled.shape)\n",
    "X_train_scaled.head()"
   ]
  },
  {
   "cell_type": "markdown",
   "metadata": {},
   "source": [
    "## Sequential layers and activation functions\n",
    "\n",
    "Feedforward neural networks accept a vector of quantitative values as input and pass this through a sequence of fully connected layers (all neurons are connected to each other).  Each neuron in a layer recieves input from all of the neurons in the previous layer. The neuron weights the input vector, adds bias and then passes it through an activation function. In a hidden layer, for example, you could use a Rectified Linear Unit (ReLU; $f(x) = \\max\\left(0, x\\right)$).  \n",
    "\n",
    "The final layer is an **output** layer.  The thrombolysis example is a binary classification so the output layer is a fully connected layer with a single neuron.  You will need to use a `sigmoid` activation function to provide a probability of recieving thromboysis between 0.0 and 1.0.\n",
    "\n",
    "For feedforward networks, `Keras` provides simple classes to help you construct your model."
   ]
  },
  {
   "cell_type": "code",
   "execution_count": 14,
   "metadata": {},
   "outputs": [],
   "source": [
    "# a model consisting of a sequential set of layers\n",
    "from tensorflow.keras.models import Sequential\n",
    "\n",
    "# a fully connected layer, an input layer\n",
    "from tensorflow.keras.layers import Dense, Input"
   ]
  },
  {
   "cell_type": "code",
   "execution_count": 15,
   "metadata": {},
   "outputs": [
    {
     "name": "stdout",
     "output_type": "stream",
     "text": [
      "Model: \"breast_cancer_nn\"\n",
      "_________________________________________________________________\n",
      " Layer (type)                Output Shape              Param #   \n",
      "=================================================================\n",
      " dense (Dense)               (None, 10)                310       \n",
      "                                                                 \n",
      " dense_1 (Dense)             (None, 10)                110       \n",
      "                                                                 \n",
      " dense_2 (Dense)             (None, 1)                 11        \n",
      "                                                                 \n",
      "=================================================================\n",
      "Total params: 431\n",
      "Trainable params: 431\n",
      "Non-trainable params: 0\n",
      "_________________________________________________________________\n"
     ]
    },
    {
     "name": "stderr",
     "output_type": "stream",
     "text": [
      "2021-12-08 14:21:01.673974: I tensorflow/stream_executor/cuda/cuda_gpu_executor.cc:939] successful NUMA node read from SysFS had negative value (-1), but there must be at least one NUMA node, so returning NUMA node zero\n",
      "2021-12-08 14:21:01.674328: W tensorflow/stream_executor/platform/default/dso_loader.cc:64] Could not load dynamic library 'libcudart.so.11.0'; dlerror: libcudart.so.11.0: cannot open shared object file: No such file or directory\n",
      "2021-12-08 14:21:01.674366: W tensorflow/stream_executor/platform/default/dso_loader.cc:64] Could not load dynamic library 'libcublas.so.11'; dlerror: libcublas.so.11: cannot open shared object file: No such file or directory\n",
      "2021-12-08 14:21:01.674401: W tensorflow/stream_executor/platform/default/dso_loader.cc:64] Could not load dynamic library 'libcublasLt.so.11'; dlerror: libcublasLt.so.11: cannot open shared object file: No such file or directory\n",
      "2021-12-08 14:21:01.674436: W tensorflow/stream_executor/platform/default/dso_loader.cc:64] Could not load dynamic library 'libcufft.so.10'; dlerror: libcufft.so.10: cannot open shared object file: No such file or directory\n",
      "2021-12-08 14:21:01.674470: W tensorflow/stream_executor/platform/default/dso_loader.cc:64] Could not load dynamic library 'libcurand.so.10'; dlerror: libcurand.so.10: cannot open shared object file: No such file or directory\n",
      "2021-12-08 14:21:01.674505: W tensorflow/stream_executor/platform/default/dso_loader.cc:64] Could not load dynamic library 'libcusolver.so.11'; dlerror: libcusolver.so.11: cannot open shared object file: No such file or directory\n",
      "2021-12-08 14:21:01.674539: W tensorflow/stream_executor/platform/default/dso_loader.cc:64] Could not load dynamic library 'libcusparse.so.11'; dlerror: libcusparse.so.11: cannot open shared object file: No such file or directory\n",
      "2021-12-08 14:21:01.674574: W tensorflow/stream_executor/platform/default/dso_loader.cc:64] Could not load dynamic library 'libcudnn.so.8'; dlerror: libcudnn.so.8: cannot open shared object file: No such file or directory\n",
      "2021-12-08 14:21:01.674580: W tensorflow/core/common_runtime/gpu/gpu_device.cc:1850] Cannot dlopen some GPU libraries. Please make sure the missing libraries mentioned above are installed properly if you would like to use GPU. Follow the guide at https://www.tensorflow.org/install/gpu for how to download and setup the required libraries for your platform.\n",
      "Skipping registering GPU devices...\n",
      "2021-12-08 14:21:01.674904: I tensorflow/core/platform/cpu_feature_guard.cc:151] This TensorFlow binary is optimized with oneAPI Deep Neural Network Library (oneDNN) to use the following CPU instructions in performance-critical operations:  AVX2 FMA\n",
      "To enable them in other operations, rebuild TensorFlow with the appropriate compiler flags.\n"
     ]
    }
   ],
   "source": [
    "# The first input\n",
    "model = Sequential(name='breast_cancer_nn')\n",
    "\n",
    "# input layer shape = (no. features, )\n",
    "model.add(Input(shape=(X_train.shape[1],)))\n",
    "\n",
    "# hidden layer 1: relu: f(x) = max(0, x)\n",
    "model.add(Dense(units=10, activation='relu'))\n",
    "\n",
    "# hidden layer 2\n",
    "model.add(Dense(units=10, activation='relu'))\n",
    "\n",
    "# output layer\n",
    "model.add(Dense(units=1, activation='sigmoid'))\n",
    "\n",
    "# summary including number of trainable parameters\n",
    "model.summary()\n",
    "          "
   ]
  },
  {
   "cell_type": "markdown",
   "metadata": {},
   "source": [
    "## Training a network\n",
    "\n",
    "For each neuron you can think of the weights as the **strength** of the neuron's **connections** to all of the neurons in the **previous layer**.  The network is initialised with these weights set to **random** values.  The purpose of training is therefore to find the 'best' weights for your prediction problem.   \n",
    "\n",
    "In this context, 'best' means the weights that minimise the training **loss** (sometimes called **cost** or **error**).  Loss is a measure of model fit i.e. a metric quantifying the difference between the predictions from the model and the ground truth observations. For classification models, you will use **Binary Cross-Entropy**.  For each training example, this measure simply takes the -log of the probability the model assigned to the correct label and then averages across all samples.  Or more formally, $$-\\dfrac{1}{N} \\sum_{i=1}^N y_i \\cdot log(p(y_i)) + (1 - y_i) \\cdot log(1 - p(y_i))$$ \n",
    "\n",
    "where $y$ is the 0/1 label and $p(y_i)$ is the probability (0 to 1) assigned to predicting label $i$.  \n",
    "\n",
    "> Note that in a regression model, you would use a loss metric such as **Mean Absolute Error** or **Mean Squared Error**."
   ]
  },
  {
   "cell_type": "code",
   "execution_count": 16,
   "metadata": {},
   "outputs": [
    {
     "data": {
      "text/plain": [
       "array([2.30258509, 1.60943791, 0.22314355, 0.01005034])"
      ]
     },
     "execution_count": 16,
     "metadata": {},
     "output_type": "execute_result"
    }
   ],
   "source": [
    "# let's assume these are the probs assigned to a TRUE value\n",
    "cost = [0.1, 0.2, 0.8, 0.99]\n",
    "-np.log(cost)"
   ]
  },
  {
   "cell_type": "markdown",
   "metadata": {},
   "source": [
    "### Stochastic Gradient Descent and Backpropagation\n",
    "\n",
    "Think of finding the best weights for your model as a large scale optimisation problem. Even in the simple first model we created there were 400+ parameters to optimise! To optimise these weights an algorithm is needed to estimate the gradient of the loss function and taking a **step** to gradually **decend** it into a local optima. \n",
    "\n",
    "<img src=\"gradient1.png\" alt=\"drawing\" width=\"500\"/>\n",
    "\n",
    "Finding these local optima is achieved using the **backpropagation algorithm** and **stochastic gradient descent**.  After pushing a training sample through our binary classification network we get a single probability of the patient having cancer. We also have the ground truth value labelling if the patient has a malignant tumor or not. Starting from the networks output layer, backprop works backward through each layer of the network to find the weights and biases that correctly classify the patient. This is repeated for all of the training data and the average of these values is the gradient of the loss function with respect to each weight. Repeated enough times the networks weights will converge on solution that minimises the loss. \n",
    "\n",
    "<img src=\"iteration.png\" alt=\"drawing\" width=\"400\"/>\n",
    "\n",
    "For large networks and datasets this is computationally expensive (and possibly infeasible) to run backpropagation against every training sample individually. Therefore we use **stochastic gradient decent (SGD)** to estimate the gradient.  The gradient is estimated by averaging results after breaking the dataset into random **mini-batches** (subsets). This reduces number of computations needed by a substantial amount (and makes large problems tractible).  \n",
    "\n",
    "<img src=\"yanlcun.png\" alt=\"drawing\" width=\"600\"/>\n",
    "\n",
    "The size of the step taken at each iteration is called the **learning rate**. It is used to subtract a fraction of the gradient from the current weights. The learning rate is a hyperparameter and may need tuning.  A typical starting point is to try powers of 10; for example, 0.1, 0.01, 0.001.  A larger step means that you can descend more quickly!  The downside is that you might overshoot the minimum!  \n",
    "\n",
    "In practice, SGD is not quite so simple and there are a few other concepts and optimisations procedures to appreciate.  The first is that it useful to tweak SGD to have **momentum**. The modification adds a fraction (typically 0.9) of the previous update to weights. The second is adapative learning rates. This comes in different flavours from a simple reduction in learning rate over time to varying the learning rate by parameter.  Both momentum and adaptive learning rates help SGD converge more efficiently.\n",
    "\n",
    "<img src=\"overshoot.png\" alt=\"drawing\" width=\"400\"/>\n",
    "\n",
    "\n",
    "\n",
    "### Training in Keras\n",
    "\n",
    "In Keras, the complexity described above is hidden and you simply **compile** a model and choose an `optimizer` and `loss` function.  You then call the model's `fit` method and pass in the training data, mini batch size (32 is the default) and the number of **epochs** to run.  An epoch is a single pass through all of the training data.  If, for example, there are 1000 points and you are using a mini-batchs of 100 then there are 10 iterations within a single epoch.  You need to run multiple epochs for the network to descend the loss function.\n",
    "\n",
    "I recommend you choose the Adam optimiser.  This is the most popular version of stochastic gradient descent since about 2015.  "
   ]
  },
  {
   "cell_type": "code",
   "execution_count": 17,
   "metadata": {},
   "outputs": [],
   "source": [
    "# set the optimizer, loss function and also report classification accuracy\n",
    "model.compile(optimizer='adam',\n",
    "              loss='binary_crossentropy',\n",
    "              metrics=['accuracy'])\n",
    "\n",
    "# fit the model and include a validation split to check for overfitting. \n",
    "results = model.fit(x=X_train_scaled.to_numpy(), \n",
    "                    y=y_train, \n",
    "                    batch_size=32,\n",
    "                    validation_split=0.10, \n",
    "                    epochs=200, \n",
    "                    verbose=0)"
   ]
  },
  {
   "cell_type": "code",
   "execution_count": 18,
   "metadata": {},
   "outputs": [],
   "source": [
    "def plot_loss(results):\n",
    "    '''\n",
    "    Two charts 1.) train versus validation loss and 2.) accuracy\n",
    "    '''\n",
    "    fig, ax = plt.subplots(2, 1, figsize=(12,6))\n",
    "    ax[0].plot(results.history['loss'])\n",
    "    ax[0].plot(results.history['val_loss'])\n",
    "    ax[0].legend(['loss', 'val_loss'])\n",
    "    ax[1].plot(results.history['accuracy'])\n",
    "    ax[1].plot(results.history['val_accuracy'])\n",
    "    ax[1].legend(['accurracy', 'val accurracy'])"
   ]
  },
  {
   "cell_type": "code",
   "execution_count": 19,
   "metadata": {},
   "outputs": [
    {
     "data": {
      "image/png": "[encoded data removed]",
      "text/plain": [
       "<Figure size 864x432 with 2 Axes>"
      ]
     },
     "metadata": {
      "needs_background": "light"
     },
     "output_type": "display_data"
    }
   ],
   "source": [
    "plot_loss(results)"
   ]
  },
  {
   "cell_type": "markdown",
   "metadata": {},
   "source": [
    "# Overfitting\n",
    "\n",
    "Given enough capacity, neural networks will overfit to your training data.  Models that are overfitted have highly variable performance when used for prediction.  Keras provides a couple of simple mechanisms to reduce overfitting: **dropout layers** and **early stopping callbacks**.\n"
   ]
  },
  {
   "cell_type": "code",
   "execution_count": 20,
   "metadata": {},
   "outputs": [],
   "source": [
    "from tensorflow.keras.callbacks import EarlyStopping\n",
    "from tensorflow.keras.layers import Dropout"
   ]
  },
  {
   "cell_type": "code",
   "execution_count": 21,
   "metadata": {},
   "outputs": [],
   "source": [
    "def get_model(input_size, n_hidden=2, n_neurons=10, activation='relu', \n",
    "              dropout=False, d_rate=0.2):\n",
    "    '''\n",
    "    Create a simple Keras feedforward model.\n",
    "    '''\n",
    "    #The first input\n",
    "    model = Sequential(name='breast_cancer_nn')\n",
    "\n",
    "    #input layer.\n",
    "    model.add(Input(shape=(input_size,)))\n",
    "\n",
    "    for i in range(n_hidden):\n",
    "        #hidden layer 1 \n",
    "        model.add(Dense(units=n_neurons, activation=activation))\n",
    "        #include a dropout layer\n",
    "        if dropout:\n",
    "            model.add(Dropout(d_rate))\n",
    "    \n",
    "    #output layer\n",
    "    model.add(Dense(units=1, activation='sigmoid'))\n",
    "    \n",
    "    return model"
   ]
  },
  {
   "cell_type": "code",
   "execution_count": 22,
   "metadata": {},
   "outputs": [
    {
     "name": "stdout",
     "output_type": "stream",
     "text": [
      "Model: \"breast_cancer_nn\"\n",
      "_________________________________________________________________\n",
      " Layer (type)                Output Shape              Param #   \n",
      "=================================================================\n",
      " dense_3 (Dense)             (None, 32)                992       \n",
      "                                                                 \n",
      " dropout (Dropout)           (None, 32)                0         \n",
      "                                                                 \n",
      " dense_4 (Dense)             (None, 32)                1056      \n",
      "                                                                 \n",
      " dropout_1 (Dropout)         (None, 32)                0         \n",
      "                                                                 \n",
      " dense_5 (Dense)             (None, 32)                1056      \n",
      "                                                                 \n",
      " dropout_2 (Dropout)         (None, 32)                0         \n",
      "                                                                 \n",
      " dense_6 (Dense)             (None, 1)                 33        \n",
      "                                                                 \n",
      "=================================================================\n",
      "Total params: 3,137\n",
      "Trainable params: 3,137\n",
      "Non-trainable params: 0\n",
      "_________________________________________________________________\n",
      "None\n"
     ]
    },
    {
     "data": {
      "image/png": "[encoded data removed]",
      "text/plain": [
       "<Figure size 864x432 with 2 Axes>"
      ]
     },
     "metadata": {
      "needs_background": "light"
     },
     "output_type": "display_data"
    }
   ],
   "source": [
    "############ General Parameters ############################\n",
    "\n",
    "N_HIDDEN = 3\n",
    "N_NEURONS = 32\n",
    "N_EPOCHS = 200\n",
    "\n",
    "# 0 fit silently; 1 show results per epoch\n",
    "VERBOSE = 0\n",
    "\n",
    "########### Regularization options ########################\n",
    "INCLUDE_DROPOUT = True\n",
    "DROPOUT_RATE = 0.2\n",
    "\n",
    "INCLUDE_EARLY_STOP = True\n",
    "PATIENCE = 10\n",
    "\n",
    "#create an early stopping callback\n",
    "es = EarlyStopping(monitor='val_loss', \n",
    "                   patience=PATIENCE,\n",
    "                   restore_best_weights=True)\n",
    "\n",
    "###########################################################\n",
    "\n",
    "#include early stopping?\n",
    "callbacks = []\n",
    "if INCLUDE_EARLY_STOP:\n",
    "    callbacks.append(es)\n",
    "\n",
    "#get the custom feedforward model\n",
    "model_2 = get_model(input_size=X_train.shape[1], \n",
    "                    n_hidden=N_HIDDEN,\n",
    "                    n_neurons=N_NEURONS,\n",
    "                    dropout=INCLUDE_DROPOUT,\n",
    "                    d_rate=DROPOUT_RATE)\n",
    "\n",
    "#summary to remind us what we have built!\n",
    "print(model_2.summary())\n",
    "\n",
    "#compile the new model\n",
    "model_2.compile(optimizer='adam',\n",
    "                loss='binary_crossentropy',\n",
    "                metrics=['accuracy'])\n",
    "\n",
    "\n",
    "#fit the model and also pass in the callback\n",
    "results_2 = model_2.fit(x=X_train_scaled, \n",
    "                        y=y_train, \n",
    "                        batch_size=32,\n",
    "                        validation_split=0.10, \n",
    "                        epochs=N_EPOCHS, \n",
    "                        verbose=VERBOSE,\n",
    "                        callbacks=callbacks)\n",
    "\n",
    "#plot loss and val loss\n",
    "plot_loss(results_2)\n"
   ]
  },
  {
   "cell_type": "markdown",
   "metadata": {},
   "source": [
    "# Prediction\n",
    "\n",
    "Predicting the training set very straightforward making use of the models `.predict()` method.  \n",
    "\n",
    "> When predicting results for individual patients you will need to `.reshape` your input"
   ]
  },
  {
   "cell_type": "code",
   "execution_count": 23,
   "metadata": {},
   "outputs": [
    {
     "data": {
      "text/plain": [
       "(30,)"
      ]
     },
     "execution_count": 23,
     "metadata": {},
     "output_type": "execute_result"
    }
   ],
   "source": [
    "X_test_scaled.to_numpy()[0].shape"
   ]
  },
  {
   "cell_type": "code",
   "execution_count": 24,
   "metadata": {},
   "outputs": [
    {
     "data": {
      "text/plain": [
       "(1, 30)"
      ]
     },
     "execution_count": 24,
     "metadata": {},
     "output_type": "execute_result"
    }
   ],
   "source": [
    "X_test_scaled.to_numpy()[0].reshape(1, -1).shape"
   ]
  },
  {
   "cell_type": "markdown",
   "metadata": {},
   "source": [
    "### Predicting and individual patients result"
   ]
  },
  {
   "cell_type": "code",
   "execution_count": 25,
   "metadata": {},
   "outputs": [
    {
     "name": "stdout",
     "output_type": "stream",
     "text": [
      "prediction proba 1.00\n",
      "prediction: True\n",
      "ground truth value: True\n"
     ]
    }
   ],
   "source": [
    "test_id = 1\n",
    "\n",
    "pred = model_2.predict(x=X_test_scaled.to_numpy()[test_id].reshape(1, -1))[0,0]\n",
    "print(f'prediction proba {pred:.2f}')\n",
    "print(f'prediction: {pred >= 0.5}')\n",
    "print(f'ground truth value: {y_test[test_id]}')"
   ]
  },
  {
   "cell_type": "code",
   "execution_count": 26,
   "metadata": {},
   "outputs": [
    {
     "data": {
      "text/plain": [
       "0.999769"
      ]
     },
     "execution_count": 26,
     "metadata": {},
     "output_type": "execute_result"
    }
   ],
   "source": [
    "model_2.predict(x=X_test_scaled.to_numpy()[test_id].reshape(1, -1))[0, 0]"
   ]
  },
  {
   "cell_type": "markdown",
   "metadata": {},
   "source": [
    "### Predicting the full test set"
   ]
  },
  {
   "cell_type": "code",
   "execution_count": 27,
   "metadata": {},
   "outputs": [
    {
     "data": {
      "text/plain": [
       "array([0.188, 1.   , 0.997, 0.005, 0.005, 1.   , 1.   , 0.977, 0.756,\n",
       "       0.014, 0.026, 0.987, 0.016, 0.906, 0.013, 0.998, 0.014, 0.004,\n",
       "       0.001, 1.   , 0.421, 0.013, 1.   , 0.003, 0.007, 0.005, 0.018,\n",
       "       0.008, 0.009, 1.   , 0.006, 0.006, 0.006, 0.011, 0.003, 0.007,\n",
       "       0.98 , 0.01 , 1.   , 0.052, 0.005, 0.997, 0.014, 0.007, 0.025,\n",
       "       0.035, 0.002, 0.006, 0.036, 0.014, 0.999, 1.   , 0.613, 0.015,\n",
       "       0.001, 0.065, 0.003, 1.   , 0.982, 0.005, 0.012, 1.   , 1.   ,\n",
       "       0.063, 0.005, 0.216, 1.   , 1.   , 0.006, 0.018, 0.985, 0.998,\n",
       "       0.013, 0.994, 0.001, 0.017, 0.017, 0.736, 0.009, 0.012, 0.995,\n",
       "       0.004, 0.289, 1.   , 0.995, 0.999, 1.   , 1.   , 0.005, 0.007,\n",
       "       0.013, 0.364, 0.064, 0.015, 0.003, 0.003, 1.   , 1.   , 0.005,\n",
       "       0.998, 0.996, 0.002, 1.   , 0.998, 0.012, 0.032, 0.008, 1.   ,\n",
       "       0.105, 0.128, 0.996, 0.009, 0.728, 1.   ], dtype=float32)"
      ]
     },
     "execution_count": 27,
     "metadata": {},
     "output_type": "execute_result"
    }
   ],
   "source": [
    "y_pred = model_2.predict(x=X_test_scaled.to_numpy()).flatten()\n",
    "np.round(y_pred, 3)"
   ]
  },
  {
   "cell_type": "markdown",
   "metadata": {},
   "source": [
    "### quick reminder of classification metrics\n",
    "\n",
    "TP = True positives\n",
    "FP = False positives\n",
    "TN = True negatives\n",
    "FN = False negatives\n",
    "\n",
    "$precision = \\dfrac{TP}{TP + FP}$  e.g if model predicts a patient does have a maligant tumor with precision 0.8.  Then when a model makes a positive cancer prediction it is right about 80% of the time.\n",
    "\n",
    "$recall = sensitivity = \\dfrac{TP}{TP + FN}$ I.e. The proportion of true positive identified. \n",
    "\n",
    "$specificity =  \\dfrac{TN}{TN + FP}$  How many negative classifications are actually negative?\n",
    "\n",
    "For the Winconsin breast cancer dataset we want a high sensitivity (detecting as many patients tumors as possible), but not at the cost of specificity (lots of false positives)."
   ]
  },
  {
   "cell_type": "code",
   "execution_count": 28,
   "metadata": {},
   "outputs": [],
   "source": [
    "from sklearn.metrics import classification_report, confusion_matrix"
   ]
  },
  {
   "cell_type": "code",
   "execution_count": 29,
   "metadata": {},
   "outputs": [],
   "source": [
    "#get predictions\n",
    "y_pred = model_2.predict(x=X_test_scaled.to_numpy()).flatten()"
   ]
  },
  {
   "cell_type": "code",
   "execution_count": 30,
   "metadata": {},
   "outputs": [
    {
     "data": {
      "text/plain": [
       "array([0.19, 1.  , 1.  , 0.  , 0.01, 1.  , 1.  , 0.98, 0.76, 0.01, 0.03,\n",
       "       0.99, 0.02, 0.91, 0.01, 1.  , 0.01, 0.  , 0.  , 1.  , 0.42, 0.01,\n",
       "       1.  , 0.  , 0.01, 0.01, 0.02, 0.01, 0.01, 1.  , 0.01, 0.01, 0.01,\n",
       "       0.01, 0.  , 0.01, 0.98, 0.01, 1.  , 0.05, 0.  , 1.  , 0.01, 0.01,\n",
       "       0.02, 0.04, 0.  , 0.01, 0.04, 0.01, 1.  , 1.  , 0.61, 0.01, 0.  ,\n",
       "       0.07, 0.  , 1.  , 0.98, 0.01, 0.01, 1.  , 1.  , 0.06, 0.01, 0.22,\n",
       "       1.  , 1.  , 0.01, 0.02, 0.98, 1.  , 0.01, 0.99, 0.  , 0.02, 0.02,\n",
       "       0.74, 0.01, 0.01, 1.  , 0.  , 0.29, 1.  , 1.  , 1.  , 1.  , 1.  ,\n",
       "       0.01, 0.01, 0.01, 0.36, 0.06, 0.02, 0.  , 0.  , 1.  , 1.  , 0.  ,\n",
       "       1.  , 1.  , 0.  , 1.  , 1.  , 0.01, 0.03, 0.01, 1.  , 0.1 , 0.13,\n",
       "       1.  , 0.01, 0.73, 1.  ], dtype=float32)"
      ]
     },
     "execution_count": 30,
     "metadata": {},
     "output_type": "execute_result"
    }
   ],
   "source": [
    "#predictions are probabilities that the patient has a malignant tumour\n",
    "np.round(y_pred, 2)"
   ]
  },
  {
   "cell_type": "code",
   "execution_count": 31,
   "metadata": {},
   "outputs": [
    {
     "data": {
      "text/plain": [
       "array([0, 1, 1, 0, 0, 1, 1, 1, 1, 0, 0, 1, 0, 1, 0, 1, 0, 0, 0, 1, 0, 0,\n",
       "       1, 0, 0, 0, 0, 0, 0, 1, 0, 0, 0, 0, 0, 0, 1, 0, 1, 0, 0, 1, 0, 0,\n",
       "       0, 0, 0, 0, 0, 0, 1, 1, 1, 0, 0, 0, 0, 1, 1, 0, 0, 1, 1, 0, 0, 0,\n",
       "       1, 1, 0, 0, 1, 1, 0, 1, 0, 0, 0, 1, 0, 0, 1, 0, 0, 1, 1, 1, 1, 1,\n",
       "       0, 0, 0, 0, 0, 0, 0, 0, 1, 1, 0, 1, 1, 0, 1, 1, 0, 0, 0, 1, 0, 0,\n",
       "       1, 0, 1, 1])"
      ]
     },
     "execution_count": 31,
     "metadata": {},
     "output_type": "execute_result"
    }
   ],
   "source": [
    "#view as 0/1\n",
    "THRESHOLD = 0.5\n",
    "(y_pred >= THRESHOLD).astype(np.int)"
   ]
  },
  {
   "cell_type": "code",
   "execution_count": 32,
   "metadata": {},
   "outputs": [
    {
     "name": "stdout",
     "output_type": "stream",
     "text": [
      "sensitivity 0.953\n",
      "specificity 0.958\n"
     ]
    }
   ],
   "source": [
    "#classification results\n",
    "THRESHOLD = 0.5\n",
    "tn, fp, fn, tp = confusion_matrix(y_test, y_pred >= THRESHOLD).flatten()\n",
    "\n",
    "#sensitivity and specificity\n",
    "sensitivity = tp / (tp + fn)\n",
    "specificity = tn / (tn + fp)\n",
    "\n",
    "print(f'sensitivity {sensitivity:.3f}')\n",
    "print(f'specificity {specificity:.3f}')"
   ]
  },
  {
   "cell_type": "code",
   "execution_count": 33,
   "metadata": {},
   "outputs": [
    {
     "name": "stdout",
     "output_type": "stream",
     "text": [
      "              precision    recall  f1-score   support\n",
      "\n",
      "       False      0.971     0.958     0.965        71\n",
      "        True      0.932     0.953     0.943        43\n",
      "\n",
      "    accuracy                          0.956       114\n",
      "   macro avg      0.952     0.956     0.954       114\n",
      "weighted avg      0.956     0.956     0.956       114\n",
      "\n"
     ]
    }
   ],
   "source": [
    "report = classification_report(y_test, y_pred >= THRESHOLD, digits=3)\n",
    "print(report)"
   ]
  },
  {
   "cell_type": "markdown",
   "metadata": {},
   "source": [
    "# Prediction Uncertainty\n",
    "\n",
    "One issue with neural networks is that they don't automatically produce estimates of uncertainty.  This is problematic as they have been trained using stochastic gradient descent. \n",
    "\n",
    "One way to get an estimate of uncertainty from a neural network is to use **Monte Carlo Dropout**.  We have already learnt about `Dropout` layers and using them for regularisation.  What perhaps isn't clear is that when we make a prediction with a Keras model the `Dropout` layers are turned **off**.  If we instead turn them **on** and making a large number of predictions from the same data produce a distribution of predictions.  \n",
    "\n",
    "> The below will only work **if you include dropout layers in your model!**"
   ]
  },
  {
   "cell_type": "code",
   "execution_count": 34,
   "metadata": {},
   "outputs": [
    {
     "name": "stdout",
     "output_type": "stream",
     "text": [
      "[0.736]\n"
     ]
    }
   ],
   "source": [
    "#get predictions\n",
    "sample_no = 77\n",
    "y_pred = model_2.predict(x=X_test_scaled.to_numpy()[sample_no].reshape(1, -1)).flatten()\n",
    "print(np.round(y_pred, 3))"
   ]
  },
  {
   "cell_type": "code",
   "execution_count": 35,
   "metadata": {},
   "outputs": [
    {
     "data": {
      "text/plain": [
       "True"
      ]
     },
     "execution_count": 35,
     "metadata": {},
     "output_type": "execute_result"
    }
   ],
   "source": [
    "y_test[sample_no]"
   ]
  },
  {
   "cell_type": "code",
   "execution_count": 36,
   "metadata": {},
   "outputs": [
    {
     "data": {
      "text/plain": [
       "array([0.98, 0.94, 0.85, 0.29, 0.78, 0.42, 0.53, 0.69, 0.76, 0.41, 0.25,\n",
       "       0.31, 0.62, 0.73, 0.16, 0.79, 0.79, 0.61, 0.96, 0.63, 0.67, 0.93,\n",
       "       0.87, 0.84, 0.98, 0.16, 0.47, 0.55, 0.96, 0.33, 0.75, 0.56, 0.92,\n",
       "       0.67, 0.67, 0.96, 0.31, 0.93, 0.61, 0.72, 0.52, 0.9 , 0.56, 0.56,\n",
       "       0.55, 0.86, 0.78, 0.54, 0.82, 0.92, 0.89, 0.63, 0.76, 0.6 , 0.92,\n",
       "       0.13, 0.88, 0.97, 0.89, 0.54, 0.71, 0.52, 0.46, 0.87, 0.86, 0.86,\n",
       "       0.3 , 0.87, 0.55, 0.84, 0.75, 0.51, 0.89, 0.97, 0.83, 0.98, 0.91,\n",
       "       0.61, 0.85, 0.43, 0.9 , 0.81, 0.63, 0.79, 0.93, 0.85, 0.78, 0.77,\n",
       "       0.68, 0.8 , 0.57, 0.65, 0.87, 0.94, 0.62, 0.91, 0.74, 0.93, 0.89,\n",
       "       0.9 ], dtype=float32)"
      ]
     },
     "execution_count": 36,
     "metadata": {},
     "output_type": "execute_result"
    }
   ],
   "source": [
    "y_probas = [model_2(X_test_scaled.to_numpy()[sample_no].reshape(1, -1), training=True) \n",
    "            for sample in range(100)]\n",
    "\n",
    "y_probas = np.round(np.stack(y_probas).flatten(), 2)\n",
    "y_probas"
   ]
  },
  {
   "cell_type": "code",
   "execution_count": 37,
   "metadata": {},
   "outputs": [
    {
     "data": {
      "text/plain": [
       "0.7649999856948853"
      ]
     },
     "execution_count": 37,
     "metadata": {},
     "output_type": "execute_result"
    }
   ],
   "source": [
    "np.quantile(y_probas, q=0.5)"
   ]
  },
  {
   "cell_type": "code",
   "execution_count": 38,
   "metadata": {},
   "outputs": [
    {
     "data": {
      "text/plain": [
       "0.7111"
      ]
     },
     "execution_count": 38,
     "metadata": {},
     "output_type": "execute_result"
    }
   ],
   "source": [
    "y_probas.mean()"
   ]
  },
  {
   "cell_type": "code",
   "execution_count": 39,
   "metadata": {},
   "outputs": [
    {
     "data": {
      "text/plain": [
       "0.21123399"
      ]
     },
     "execution_count": 39,
     "metadata": {},
     "output_type": "execute_result"
    }
   ],
   "source": [
    "y_probas.std()"
   ]
  },
  {
   "cell_type": "markdown",
   "metadata": {},
   "source": [
    "# End"
   ]
  }
 ],
 "metadata": {
  "kernelspec": {
   "display_name": "Python 3 (ipykernel)",
   "language": "python",
   "name": "python3"
  },
  "language_info": {
   "codemirror_mode": {
    "name": "ipython",
    "version": 3
   },
   "file_extension": ".py",
   "mimetype": "text/x-python",
   "name": "python",
   "nbconvert_exporter": "python",
   "pygments_lexer": "ipython3",
   "version": "3.8.8"
  }
 },
 "nbformat": 4,
 "nbformat_minor": 4
}
